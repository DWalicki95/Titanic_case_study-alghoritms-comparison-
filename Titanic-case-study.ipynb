{
 "cells": [
  {
   "cell_type": "markdown",
   "id": "e96b56bd",
   "metadata": {},
   "source": [
    "Goal of this case study is to predict survivors based on Titanic dataset and compare different alghoritms with different hiperparameters. At the end we can choose the best one for this task."
   ]
  },
  {
   "cell_type": "code",
   "execution_count": 25,
   "id": "979e8d01",
   "metadata": {},
   "outputs": [],
   "source": [
    "import pandas as pd\n",
    "import numpy as np\n",
    "import seaborn as sns"
   ]
  },
  {
   "cell_type": "code",
   "execution_count": 26,
   "id": "df7e7f0f",
   "metadata": {},
   "outputs": [
    {
     "data": {
      "text/html": [
       "<div>\n",
       "<style scoped>\n",
       "    .dataframe tbody tr th:only-of-type {\n",
       "        vertical-align: middle;\n",
       "    }\n",
       "\n",
       "    .dataframe tbody tr th {\n",
       "        vertical-align: top;\n",
       "    }\n",
       "\n",
       "    .dataframe thead th {\n",
       "        text-align: right;\n",
       "    }\n",
       "</style>\n",
       "<table border=\"1\" class=\"dataframe\">\n",
       "  <thead>\n",
       "    <tr style=\"text-align: right;\">\n",
       "      <th></th>\n",
       "      <th>pclass</th>\n",
       "      <th>survived</th>\n",
       "      <th>name</th>\n",
       "      <th>sex</th>\n",
       "      <th>age</th>\n",
       "      <th>sibsp</th>\n",
       "      <th>parch</th>\n",
       "      <th>ticket</th>\n",
       "      <th>fare</th>\n",
       "      <th>cabin</th>\n",
       "      <th>embarked</th>\n",
       "      <th>home.dest</th>\n",
       "    </tr>\n",
       "  </thead>\n",
       "  <tbody>\n",
       "    <tr>\n",
       "      <th>0</th>\n",
       "      <td>3</td>\n",
       "      <td>0</td>\n",
       "      <td>Abbing, Mr. Anthony</td>\n",
       "      <td>male</td>\n",
       "      <td>42.0</td>\n",
       "      <td>0</td>\n",
       "      <td>0</td>\n",
       "      <td>C.A. 5547</td>\n",
       "      <td>7.55</td>\n",
       "      <td>NaN</td>\n",
       "      <td>S</td>\n",
       "      <td>NaN</td>\n",
       "    </tr>\n",
       "    <tr>\n",
       "      <th>1</th>\n",
       "      <td>3</td>\n",
       "      <td>0</td>\n",
       "      <td>Abbott, Master. Eugene Joseph</td>\n",
       "      <td>male</td>\n",
       "      <td>13.0</td>\n",
       "      <td>0</td>\n",
       "      <td>2</td>\n",
       "      <td>C.A. 2673</td>\n",
       "      <td>20.25</td>\n",
       "      <td>NaN</td>\n",
       "      <td>S</td>\n",
       "      <td>East Providence, RI</td>\n",
       "    </tr>\n",
       "    <tr>\n",
       "      <th>2</th>\n",
       "      <td>3</td>\n",
       "      <td>0</td>\n",
       "      <td>Abbott, Mr. Rossmore Edward</td>\n",
       "      <td>male</td>\n",
       "      <td>16.0</td>\n",
       "      <td>1</td>\n",
       "      <td>1</td>\n",
       "      <td>C.A. 2673</td>\n",
       "      <td>20.25</td>\n",
       "      <td>NaN</td>\n",
       "      <td>S</td>\n",
       "      <td>East Providence, RI</td>\n",
       "    </tr>\n",
       "    <tr>\n",
       "      <th>3</th>\n",
       "      <td>3</td>\n",
       "      <td>1</td>\n",
       "      <td>Abbott, Mrs. Stanton (Rosa Hunt)</td>\n",
       "      <td>female</td>\n",
       "      <td>35.0</td>\n",
       "      <td>1</td>\n",
       "      <td>1</td>\n",
       "      <td>C.A. 2673</td>\n",
       "      <td>20.25</td>\n",
       "      <td>NaN</td>\n",
       "      <td>S</td>\n",
       "      <td>East Providence, RI</td>\n",
       "    </tr>\n",
       "    <tr>\n",
       "      <th>4</th>\n",
       "      <td>3</td>\n",
       "      <td>1</td>\n",
       "      <td>Abelseth, Miss. Karen Marie</td>\n",
       "      <td>female</td>\n",
       "      <td>16.0</td>\n",
       "      <td>0</td>\n",
       "      <td>0</td>\n",
       "      <td>348125</td>\n",
       "      <td>7.65</td>\n",
       "      <td>NaN</td>\n",
       "      <td>S</td>\n",
       "      <td>Norway Los Angeles, CA</td>\n",
       "    </tr>\n",
       "  </tbody>\n",
       "</table>\n",
       "</div>"
      ],
      "text/plain": [
       "   pclass  survived                              name     sex   age  sibsp  \\\n",
       "0       3         0               Abbing, Mr. Anthony    male  42.0      0   \n",
       "1       3         0     Abbott, Master. Eugene Joseph    male  13.0      0   \n",
       "2       3         0       Abbott, Mr. Rossmore Edward    male  16.0      1   \n",
       "3       3         1  Abbott, Mrs. Stanton (Rosa Hunt)  female  35.0      1   \n",
       "4       3         1       Abelseth, Miss. Karen Marie  female  16.0      0   \n",
       "\n",
       "   parch     ticket   fare cabin embarked               home.dest  \n",
       "0      0  C.A. 5547   7.55   NaN        S                     NaN  \n",
       "1      2  C.A. 2673  20.25   NaN        S     East Providence, RI  \n",
       "2      1  C.A. 2673  20.25   NaN        S     East Providence, RI  \n",
       "3      1  C.A. 2673  20.25   NaN        S     East Providence, RI  \n",
       "4      0     348125   7.65   NaN        S  Norway Los Angeles, CA  "
      ]
     },
     "execution_count": 26,
     "metadata": {},
     "output_type": "execute_result"
    }
   ],
   "source": [
    "data = pd.read_csv('D:/Dane/walickida/Desktop/Realizowane prace/PYTHON/Zjazd 9/Titanic_case_study-main/titanic.csv', \n",
    "                   decimal=',')\n",
    "data.head() "
   ]
  },
  {
   "cell_type": "markdown",
   "id": "25321d3b",
   "metadata": {},
   "source": [
    "1. Data preparation"
   ]
  },
  {
   "cell_type": "code",
   "execution_count": 27,
   "id": "9c2f0cae",
   "metadata": {},
   "outputs": [
    {
     "name": "stdout",
     "output_type": "stream",
     "text": [
      "<class 'pandas.core.frame.DataFrame'>\n",
      "RangeIndex: 1046 entries, 0 to 1045\n",
      "Data columns (total 12 columns):\n",
      " #   Column     Non-Null Count  Dtype  \n",
      "---  ------     --------------  -----  \n",
      " 0   pclass     1046 non-null   int64  \n",
      " 1   survived   1046 non-null   int64  \n",
      " 2   name       1046 non-null   object \n",
      " 3   sex        1046 non-null   object \n",
      " 4   age        1046 non-null   float64\n",
      " 5   sibsp      1046 non-null   int64  \n",
      " 6   parch      1046 non-null   int64  \n",
      " 7   ticket     1046 non-null   object \n",
      " 8   fare       1045 non-null   float64\n",
      " 9   cabin      272 non-null    object \n",
      " 10  embarked   1044 non-null   object \n",
      " 11  home.dest  685 non-null    object \n",
      "dtypes: float64(2), int64(4), object(6)\n",
      "memory usage: 98.2+ KB\n"
     ]
    }
   ],
   "source": [
    "data.info()"
   ]
  },
  {
   "cell_type": "code",
   "execution_count": 28,
   "id": "b81fa126",
   "metadata": {},
   "outputs": [],
   "source": [
    "y = data['survived'] #it's our variable that we'd like to predict"
   ]
  },
  {
   "cell_type": "code",
   "execution_count": 102,
   "id": "2aa329a3",
   "metadata": {},
   "outputs": [
    {
     "ename": "KeyError",
     "evalue": "'ticket'",
     "output_type": "error",
     "traceback": [
      "\u001b[1;31m---------------------------------------------------------------------------\u001b[0m",
      "\u001b[1;31mKeyError\u001b[0m                                  Traceback (most recent call last)",
      "\u001b[1;32m~\\Anacoda\\lib\\site-packages\\pandas\\core\\indexes\\base.py\u001b[0m in \u001b[0;36mget_loc\u001b[1;34m(self, key, method, tolerance)\u001b[0m\n\u001b[0;32m   3628\u001b[0m             \u001b[1;32mtry\u001b[0m\u001b[1;33m:\u001b[0m\u001b[1;33m\u001b[0m\u001b[1;33m\u001b[0m\u001b[0m\n\u001b[1;32m-> 3629\u001b[1;33m                 \u001b[1;32mreturn\u001b[0m \u001b[0mself\u001b[0m\u001b[1;33m.\u001b[0m\u001b[0m_engine\u001b[0m\u001b[1;33m.\u001b[0m\u001b[0mget_loc\u001b[0m\u001b[1;33m(\u001b[0m\u001b[0mcasted_key\u001b[0m\u001b[1;33m)\u001b[0m\u001b[1;33m\u001b[0m\u001b[1;33m\u001b[0m\u001b[0m\n\u001b[0m\u001b[0;32m   3630\u001b[0m             \u001b[1;32mexcept\u001b[0m \u001b[0mKeyError\u001b[0m \u001b[1;32mas\u001b[0m \u001b[0merr\u001b[0m\u001b[1;33m:\u001b[0m\u001b[1;33m\u001b[0m\u001b[1;33m\u001b[0m\u001b[0m\n",
      "\u001b[1;32m~\\Anacoda\\lib\\site-packages\\pandas\\_libs\\index.pyx\u001b[0m in \u001b[0;36mpandas._libs.index.IndexEngine.get_loc\u001b[1;34m()\u001b[0m\n",
      "\u001b[1;32m~\\Anacoda\\lib\\site-packages\\pandas\\_libs\\index.pyx\u001b[0m in \u001b[0;36mpandas._libs.index.IndexEngine.get_loc\u001b[1;34m()\u001b[0m\n",
      "\u001b[1;32mpandas\\_libs\\hashtable_class_helper.pxi\u001b[0m in \u001b[0;36mpandas._libs.hashtable.PyObjectHashTable.get_item\u001b[1;34m()\u001b[0m\n",
      "\u001b[1;32mpandas\\_libs\\hashtable_class_helper.pxi\u001b[0m in \u001b[0;36mpandas._libs.hashtable.PyObjectHashTable.get_item\u001b[1;34m()\u001b[0m\n",
      "\u001b[1;31mKeyError\u001b[0m: 'ticket'",
      "\nThe above exception was the direct cause of the following exception:\n",
      "\u001b[1;31mKeyError\u001b[0m                                  Traceback (most recent call last)",
      "\u001b[1;32m~\\AppData\\Local\\Temp\\ipykernel_6868\\736080936.py\u001b[0m in \u001b[0;36m<module>\u001b[1;34m\u001b[0m\n\u001b[1;32m----> 1\u001b[1;33m \u001b[0mdata\u001b[0m\u001b[1;33m[\u001b[0m\u001b[1;34m'ticket'\u001b[0m\u001b[1;33m]\u001b[0m\u001b[1;33m.\u001b[0m\u001b[0munique\u001b[0m\u001b[1;33m(\u001b[0m\u001b[1;33m)\u001b[0m \u001b[1;31m#it's something like ID of ticket, we can't reasonably\u001b[0m\u001b[1;33m\u001b[0m\u001b[1;33m\u001b[0m\u001b[0m\n\u001b[0m\u001b[0;32m      2\u001b[0m \u001b[1;31m#use this information\u001b[0m\u001b[1;33m\u001b[0m\u001b[1;33m\u001b[0m\u001b[0m\n",
      "\u001b[1;32m~\\Anacoda\\lib\\site-packages\\pandas\\core\\frame.py\u001b[0m in \u001b[0;36m__getitem__\u001b[1;34m(self, key)\u001b[0m\n\u001b[0;32m   3503\u001b[0m             \u001b[1;32mif\u001b[0m \u001b[0mself\u001b[0m\u001b[1;33m.\u001b[0m\u001b[0mcolumns\u001b[0m\u001b[1;33m.\u001b[0m\u001b[0mnlevels\u001b[0m \u001b[1;33m>\u001b[0m \u001b[1;36m1\u001b[0m\u001b[1;33m:\u001b[0m\u001b[1;33m\u001b[0m\u001b[1;33m\u001b[0m\u001b[0m\n\u001b[0;32m   3504\u001b[0m                 \u001b[1;32mreturn\u001b[0m \u001b[0mself\u001b[0m\u001b[1;33m.\u001b[0m\u001b[0m_getitem_multilevel\u001b[0m\u001b[1;33m(\u001b[0m\u001b[0mkey\u001b[0m\u001b[1;33m)\u001b[0m\u001b[1;33m\u001b[0m\u001b[1;33m\u001b[0m\u001b[0m\n\u001b[1;32m-> 3505\u001b[1;33m             \u001b[0mindexer\u001b[0m \u001b[1;33m=\u001b[0m \u001b[0mself\u001b[0m\u001b[1;33m.\u001b[0m\u001b[0mcolumns\u001b[0m\u001b[1;33m.\u001b[0m\u001b[0mget_loc\u001b[0m\u001b[1;33m(\u001b[0m\u001b[0mkey\u001b[0m\u001b[1;33m)\u001b[0m\u001b[1;33m\u001b[0m\u001b[1;33m\u001b[0m\u001b[0m\n\u001b[0m\u001b[0;32m   3506\u001b[0m             \u001b[1;32mif\u001b[0m \u001b[0mis_integer\u001b[0m\u001b[1;33m(\u001b[0m\u001b[0mindexer\u001b[0m\u001b[1;33m)\u001b[0m\u001b[1;33m:\u001b[0m\u001b[1;33m\u001b[0m\u001b[1;33m\u001b[0m\u001b[0m\n\u001b[0;32m   3507\u001b[0m                 \u001b[0mindexer\u001b[0m \u001b[1;33m=\u001b[0m \u001b[1;33m[\u001b[0m\u001b[0mindexer\u001b[0m\u001b[1;33m]\u001b[0m\u001b[1;33m\u001b[0m\u001b[1;33m\u001b[0m\u001b[0m\n",
      "\u001b[1;32m~\\Anacoda\\lib\\site-packages\\pandas\\core\\indexes\\base.py\u001b[0m in \u001b[0;36mget_loc\u001b[1;34m(self, key, method, tolerance)\u001b[0m\n\u001b[0;32m   3629\u001b[0m                 \u001b[1;32mreturn\u001b[0m \u001b[0mself\u001b[0m\u001b[1;33m.\u001b[0m\u001b[0m_engine\u001b[0m\u001b[1;33m.\u001b[0m\u001b[0mget_loc\u001b[0m\u001b[1;33m(\u001b[0m\u001b[0mcasted_key\u001b[0m\u001b[1;33m)\u001b[0m\u001b[1;33m\u001b[0m\u001b[1;33m\u001b[0m\u001b[0m\n\u001b[0;32m   3630\u001b[0m             \u001b[1;32mexcept\u001b[0m \u001b[0mKeyError\u001b[0m \u001b[1;32mas\u001b[0m \u001b[0merr\u001b[0m\u001b[1;33m:\u001b[0m\u001b[1;33m\u001b[0m\u001b[1;33m\u001b[0m\u001b[0m\n\u001b[1;32m-> 3631\u001b[1;33m                 \u001b[1;32mraise\u001b[0m \u001b[0mKeyError\u001b[0m\u001b[1;33m(\u001b[0m\u001b[0mkey\u001b[0m\u001b[1;33m)\u001b[0m \u001b[1;32mfrom\u001b[0m \u001b[0merr\u001b[0m\u001b[1;33m\u001b[0m\u001b[1;33m\u001b[0m\u001b[0m\n\u001b[0m\u001b[0;32m   3632\u001b[0m             \u001b[1;32mexcept\u001b[0m \u001b[0mTypeError\u001b[0m\u001b[1;33m:\u001b[0m\u001b[1;33m\u001b[0m\u001b[1;33m\u001b[0m\u001b[0m\n\u001b[0;32m   3633\u001b[0m                 \u001b[1;31m# If we have a listlike key, _check_indexing_error will raise\u001b[0m\u001b[1;33m\u001b[0m\u001b[1;33m\u001b[0m\u001b[0m\n",
      "\u001b[1;31mKeyError\u001b[0m: 'ticket'"
     ]
    }
   ],
   "source": [
    "data['ticket'].unique() #it's something like ID of ticket, we can't reasonably \n",
    "#use this information"
   ]
  },
  {
   "cell_type": "code",
   "execution_count": 30,
   "id": "8246b850",
   "metadata": {},
   "outputs": [],
   "source": [
    "data.drop(columns='ticket', axis=1, inplace=True)"
   ]
  },
  {
   "cell_type": "code",
   "execution_count": 31,
   "id": "f9117f15",
   "metadata": {},
   "outputs": [],
   "source": [
    "data.drop(columns='fare', axis=1, inplace=True)\n",
    "#First thing we can see is that fare - ticket price is object Dtype and should be float. \n",
    "#But I decided not to use this variable at all, beacouse: 1) we can't be sure about currency and\n",
    "#correctness (probably it's the summarized price for all people from the ticket) \n",
    "#AND this variable is higly correlated with cabin and pclass. "
   ]
  },
  {
   "cell_type": "code",
   "execution_count": 32,
   "id": "7a56011c",
   "metadata": {},
   "outputs": [
    {
     "data": {
      "text/plain": [
       "C    86\n",
       "B    63\n",
       "D    42\n",
       "E    38\n",
       "A    19\n",
       "F    18\n",
       "G     5\n",
       "T     1\n",
       "Name: cabin, dtype: int64"
      ]
     },
     "execution_count": 32,
     "metadata": {},
     "output_type": "execute_result"
    }
   ],
   "source": [
    "#There is big amount of Nan's BUT it could be very useful information so we'll try to do sth\n",
    "#We'll only use the letter sign - we assume that it's a deck designation. \n",
    "data.cabin.str[0].value_counts()"
   ]
  },
  {
   "cell_type": "code",
   "execution_count": 33,
   "id": "eddd6d11",
   "metadata": {},
   "outputs": [],
   "source": [
    "data[\"deck\"] = data.cabin.str[0].fillna(\"Unknown\").replace({\"G\":\"F\", \"T\":\"F\"})\n",
    "#There is very little\n",
    "#samples in classes T and G so we can add them to class F. Nan's we turn into class Unknown."
   ]
  },
  {
   "cell_type": "code",
   "execution_count": 34,
   "id": "4b963a0d",
   "metadata": {},
   "outputs": [],
   "source": [
    "data.drop(['cabin'], axis=1, inplace=True) #now we can delete column cabin"
   ]
  },
  {
   "cell_type": "code",
   "execution_count": 35,
   "id": "1d656c4c",
   "metadata": {},
   "outputs": [],
   "source": [
    "data['embarked'].fillna(data['embarked'].value_counts().index[0], inplace=True)\n",
    "#Column 'embarked' it's the port from which passengers departed. It seems as usefull information\n",
    "#but it's probably highly correlated with cabin (now deck) and it's probably more informative but \n",
    "#on the other hand it can be more informative for us than ID's of cabins that we've alreade \n",
    "#established it's hard to locate on ship\n",
    "#We'll use this column and fill Nan's with most common value which is 'S'. There is only 2 Nan's\n",
    "#so it shouldn't be a mistake."
   ]
  },
  {
   "cell_type": "code",
   "execution_count": 36,
   "id": "1ef40325",
   "metadata": {},
   "outputs": [],
   "source": [
    "#home.dest (home destination) is the column that \n",
    "#we will not use as it does not carry any information related to the disaster"
   ]
  },
  {
   "cell_type": "code",
   "execution_count": 37,
   "id": "e017253e",
   "metadata": {},
   "outputs": [
    {
     "data": {
      "text/html": [
       "<div>\n",
       "<style scoped>\n",
       "    .dataframe tbody tr th:only-of-type {\n",
       "        vertical-align: middle;\n",
       "    }\n",
       "\n",
       "    .dataframe tbody tr th {\n",
       "        vertical-align: top;\n",
       "    }\n",
       "\n",
       "    .dataframe thead th {\n",
       "        text-align: right;\n",
       "    }\n",
       "</style>\n",
       "<table border=\"1\" class=\"dataframe\">\n",
       "  <thead>\n",
       "    <tr style=\"text-align: right;\">\n",
       "      <th></th>\n",
       "      <th>pclass</th>\n",
       "      <th>age</th>\n",
       "      <th>sibsp</th>\n",
       "      <th>parch</th>\n",
       "      <th>sex_male</th>\n",
       "      <th>embarked_Q</th>\n",
       "      <th>embarked_S</th>\n",
       "      <th>deck_B</th>\n",
       "      <th>deck_C</th>\n",
       "      <th>deck_D</th>\n",
       "      <th>deck_E</th>\n",
       "      <th>deck_F</th>\n",
       "      <th>deck_Unknown</th>\n",
       "    </tr>\n",
       "  </thead>\n",
       "  <tbody>\n",
       "    <tr>\n",
       "      <th>0</th>\n",
       "      <td>3</td>\n",
       "      <td>42.0</td>\n",
       "      <td>0</td>\n",
       "      <td>0</td>\n",
       "      <td>1</td>\n",
       "      <td>0</td>\n",
       "      <td>1</td>\n",
       "      <td>0</td>\n",
       "      <td>0</td>\n",
       "      <td>0</td>\n",
       "      <td>0</td>\n",
       "      <td>0</td>\n",
       "      <td>1</td>\n",
       "    </tr>\n",
       "    <tr>\n",
       "      <th>1</th>\n",
       "      <td>3</td>\n",
       "      <td>13.0</td>\n",
       "      <td>0</td>\n",
       "      <td>2</td>\n",
       "      <td>1</td>\n",
       "      <td>0</td>\n",
       "      <td>1</td>\n",
       "      <td>0</td>\n",
       "      <td>0</td>\n",
       "      <td>0</td>\n",
       "      <td>0</td>\n",
       "      <td>0</td>\n",
       "      <td>1</td>\n",
       "    </tr>\n",
       "    <tr>\n",
       "      <th>2</th>\n",
       "      <td>3</td>\n",
       "      <td>16.0</td>\n",
       "      <td>1</td>\n",
       "      <td>1</td>\n",
       "      <td>1</td>\n",
       "      <td>0</td>\n",
       "      <td>1</td>\n",
       "      <td>0</td>\n",
       "      <td>0</td>\n",
       "      <td>0</td>\n",
       "      <td>0</td>\n",
       "      <td>0</td>\n",
       "      <td>1</td>\n",
       "    </tr>\n",
       "    <tr>\n",
       "      <th>3</th>\n",
       "      <td>3</td>\n",
       "      <td>35.0</td>\n",
       "      <td>1</td>\n",
       "      <td>1</td>\n",
       "      <td>0</td>\n",
       "      <td>0</td>\n",
       "      <td>1</td>\n",
       "      <td>0</td>\n",
       "      <td>0</td>\n",
       "      <td>0</td>\n",
       "      <td>0</td>\n",
       "      <td>0</td>\n",
       "      <td>1</td>\n",
       "    </tr>\n",
       "    <tr>\n",
       "      <th>4</th>\n",
       "      <td>3</td>\n",
       "      <td>16.0</td>\n",
       "      <td>0</td>\n",
       "      <td>0</td>\n",
       "      <td>0</td>\n",
       "      <td>0</td>\n",
       "      <td>1</td>\n",
       "      <td>0</td>\n",
       "      <td>0</td>\n",
       "      <td>0</td>\n",
       "      <td>0</td>\n",
       "      <td>0</td>\n",
       "      <td>1</td>\n",
       "    </tr>\n",
       "  </tbody>\n",
       "</table>\n",
       "</div>"
      ],
      "text/plain": [
       "   pclass   age  sibsp  parch  sex_male  embarked_Q  embarked_S  deck_B  \\\n",
       "0       3  42.0      0      0         1           0           1       0   \n",
       "1       3  13.0      0      2         1           0           1       0   \n",
       "2       3  16.0      1      1         1           0           1       0   \n",
       "3       3  35.0      1      1         0           0           1       0   \n",
       "4       3  16.0      0      0         0           0           1       0   \n",
       "\n",
       "   deck_C  deck_D  deck_E  deck_F  deck_Unknown  \n",
       "0       0       0       0       0             1  \n",
       "1       0       0       0       0             1  \n",
       "2       0       0       0       0             1  \n",
       "3       0       0       0       0             1  \n",
       "4       0       0       0       0             1  "
      ]
     },
     "execution_count": 37,
     "metadata": {},
     "output_type": "execute_result"
    }
   ],
   "source": [
    "X = pd.get_dummies(data [['pclass', 'sex', 'age', 'sibsp', 'parch', \n",
    "                          'embarked', 'deck']], drop_first=True)\n",
    "X.head() #'sex','embarked' and 'deck' are categorical columns so they should be encoded."
   ]
  },
  {
   "cell_type": "markdown",
   "id": "bafcb5bc",
   "metadata": {},
   "source": [
    "2. Modeling"
   ]
  },
  {
   "cell_type": "markdown",
   "id": "bfe461be",
   "metadata": {},
   "source": [
    "2.1 Decision Tree Classifier"
   ]
  },
  {
   "cell_type": "code",
   "execution_count": 38,
   "id": "7d7d5b9f",
   "metadata": {},
   "outputs": [],
   "source": [
    "from sklearn.model_selection import train_test_split"
   ]
  },
  {
   "cell_type": "code",
   "execution_count": 70,
   "id": "03966d66",
   "metadata": {},
   "outputs": [],
   "source": [
    "X_train, X_test, y_train, y_test = train_test_split(X, y, test_size=0.2, random_state=123)\n",
    "#now we split data into training and testing. We can assume basing on dataset size that 80:20 \n",
    "#should be correct ratio"
   ]
  },
  {
   "cell_type": "code",
   "execution_count": 40,
   "id": "5268d9a5",
   "metadata": {},
   "outputs": [],
   "source": [
    "from sklearn.tree import DecisionTreeClassifier\n",
    "from sklearn.preprocessing import StandardScaler\n",
    "from sklearn.model_selection import GridSearchCV\n",
    "from sklearn.metrics import accuracy_score\n",
    "from sklearn.model_selection import KFold, StratifiedKFold"
   ]
  },
  {
   "cell_type": "code",
   "execution_count": 89,
   "id": "99eb2ba3",
   "metadata": {},
   "outputs": [
    {
     "data": {
      "text/plain": [
       "0.7142857142857143"
      ]
     },
     "execution_count": 89,
     "metadata": {},
     "output_type": "execute_result"
    }
   ],
   "source": [
    "model_dt = DecisionTreeClassifier()\n",
    "model_dt.fit(X_train, y_train)\n",
    "y_pred_dt = model_dt.predict(X_test)\n",
    "accuracy_score(y_test, y_pred_dt)\n",
    "#~70% accuracy when we fit Decision Tree Classifier without parameter optimization"
   ]
  },
  {
   "cell_type": "code",
   "execution_count": 93,
   "id": "7fb3d96f",
   "metadata": {},
   "outputs": [
    {
     "name": "stdout",
     "output_type": "stream",
     "text": [
      "{'criterion': 'entropy', 'max_depth': 10, 'min_samples_leaf': 5}\n",
      "0.7714285714285715\n"
     ]
    }
   ],
   "source": [
    "kfold = StratifiedKFold(10, shuffle=True, random_state=123)\n",
    "\n",
    "model_dt = DecisionTreeClassifier()\n",
    "params = {\"min_samples_leaf\": np.arange(1, 21),\n",
    "          'max_depth': np.arange(1, 16),\n",
    "         'criterion': ['gini', 'entropy']}\n",
    "optimizer_dt = GridSearchCV(model_dt, \n",
    "                         params, \n",
    "                         scoring=\"accuracy\", \n",
    "                         cv=kfold, \n",
    "                         n_jobs=-1)\n",
    "optimizer_dt.fit(X_train, y_train)\n",
    "\n",
    "y_pred_dt = optimizer_dt.best_estimator_.predict(X_test)\n",
    "print(optimizer_dt.best_params_)\n",
    "print(accuracy_score(y_test, y_pred_dt))"
   ]
  },
  {
   "cell_type": "code",
   "execution_count": 99,
   "id": "2498bbaa",
   "metadata": {},
   "outputs": [
    {
     "data": {
      "text/plain": [
       "0.7904761904761904"
      ]
     },
     "execution_count": 99,
     "metadata": {},
     "output_type": "execute_result"
    }
   ],
   "source": [
    "model_dt = DecisionTreeClassifier(criterion='gini', max_depth=None, min_samples_leaf=5)\n",
    "model_dt.fit(X_train, y_train)\n",
    "y_pred_dt = model_dt.predict(X_test)\n",
    "accuracy_score(y_test, y_pred_dt)\n",
    "#Decision Tree Classifier with optimal parameters. Accuracy increases to ~79%"
   ]
  },
  {
   "cell_type": "markdown",
   "id": "117288d7",
   "metadata": {},
   "source": [
    "2.2 Logistic regression"
   ]
  },
  {
   "cell_type": "code",
   "execution_count": 45,
   "id": "f0dff24d",
   "metadata": {},
   "outputs": [],
   "source": [
    "from sklearn.linear_model import LogisticRegression\n",
    "from sklearn.pipeline import Pipeline"
   ]
  },
  {
   "cell_type": "code",
   "execution_count": 100,
   "id": "ec71114f",
   "metadata": {},
   "outputs": [
    {
     "data": {
      "text/plain": [
       "0.7857142857142857"
      ]
     },
     "execution_count": 100,
     "metadata": {},
     "output_type": "execute_result"
    }
   ],
   "source": [
    "model_lr = LogisticRegression(max_iter=10e5)\n",
    "model_lr.fit(X_train, y_train)\n",
    "y_pred_lr = model_lr.predict(X_test)\n",
    "accuracy_score(y_test, y_pred_lr)\n",
    "#~78% accuracy when we use Linear Regression model without optimization"
   ]
  },
  {
   "cell_type": "code",
   "execution_count": 47,
   "id": "17514805",
   "metadata": {},
   "outputs": [
    {
     "data": {
      "text/plain": [
       "{'model__C': 0.1, 'model__penalty': 'l2'}"
      ]
     },
     "execution_count": 47,
     "metadata": {},
     "output_type": "execute_result"
    }
   ],
   "source": [
    "#Optimization\n",
    "kfold = StratifiedKFold(10, shuffle=True, random_state=123)\n",
    "\n",
    "pipeline = Pipeline([\n",
    "    ('scaler', StandardScaler()),\n",
    "    ('model', LogisticRegression(solver='saga'))\n",
    "])\n",
    "params = [\n",
    "    {\n",
    "        'model__penalty': ['none']\n",
    "    },\n",
    "    {\n",
    "        'model__penalty': ['l1', 'l2'],\n",
    "        'model__C': [0.01, 0.1, 1, 10, 100, 1000]\n",
    "    }\n",
    "]\n",
    "\n",
    "optimizer_lr = GridSearchCV(pipeline,\n",
    "                           params,\n",
    "                           scoring='accuracy',\n",
    "                           cv=kfold,\n",
    "                           n_jobs=-1)\n",
    "optimizer_lr.fit(X_train, y_train)\n",
    "optimizer_lr.best_params_"
   ]
  },
  {
   "cell_type": "code",
   "execution_count": 48,
   "id": "093ba98f",
   "metadata": {},
   "outputs": [
    {
     "data": {
      "text/plain": [
       "0.7714285714285715"
      ]
     },
     "execution_count": 48,
     "metadata": {},
     "output_type": "execute_result"
    }
   ],
   "source": [
    "pipeline = Pipeline([\n",
    "    ('scaler', StandardScaler()),\n",
    "    ('model', LogisticRegression(penalty='l2', C=0.1))\n",
    "])\n",
    "pipeline.fit(X_train, y_train)\n",
    "y_pred_lr = pipeline.predict(X_test)\n",
    "accuracy_score(y_test, y_pred_lr)\n",
    "#after optimization we are at the same level of accuracy"
   ]
  },
  {
   "cell_type": "code",
   "execution_count": 50,
   "id": "6c4f65a7",
   "metadata": {},
   "outputs": [],
   "source": [
    "from sklearn import metrics"
   ]
  },
  {
   "cell_type": "code",
   "execution_count": 52,
   "id": "57aed9ae",
   "metadata": {},
   "outputs": [
    {
     "name": "stdout",
     "output_type": "stream",
     "text": [
      "[[95 22]\n",
      " [26 67]]\n"
     ]
    }
   ],
   "source": [
    "cm = metrics.confusion_matrix(y_test, y_pred_lr)\n",
    "print(cm)"
   ]
  },
  {
   "cell_type": "code",
   "execution_count": 63,
   "id": "729ed221",
   "metadata": {},
   "outputs": [
    {
     "name": "stdout",
     "output_type": "stream",
     "text": [
      "{'solver': 'lbfgs', 'best params': {'model__C': 0.1, 'model__penalty': 'l2'}}\n",
      "Accuracy: 0.7714285714285715\n",
      "{'solver': 'liblinear', 'best params': {'model__C': 1.0, 'model__penalty': 'l2'}}\n",
      "Accuracy: 0.7761904761904762\n",
      "{'solver': 'newton-cg', 'best params': {'model__C': 0.1, 'model__penalty': 'l2'}}\n",
      "Accuracy: 0.7714285714285715\n",
      "{'solver': 'sag', 'best params': {'model__C': 0.1, 'model__penalty': 'l2'}}\n",
      "Accuracy: 0.7714285714285715\n",
      "{'solver': 'saga', 'best params': {'model__C': 0.1, 'model__penalty': 'l2'}}\n",
      "Accuracy: 0.7714285714285715\n"
     ]
    }
   ],
   "source": [
    "#Optimization\n",
    "kfold = StratifiedKFold(10, shuffle=True, random_state=123)\n",
    "\n",
    "solvers_list = ['lbfgs', 'liblinear', 'newton-cg', 'sag', 'saga']\n",
    "C_params = [10e-2, 10e-1, 1, 10, 10e2, 10e3]\n",
    "\n",
    "for solver in solvers_list:\n",
    "    pipeline = Pipeline([\n",
    "        ('scaler', StandardScaler()),\n",
    "        ('model', LogisticRegression(solver=solver))\n",
    "    ])\n",
    "    if solver in ['lbfgs', 'newton-cg', 'sag']:\n",
    "        params = [\n",
    "            {\n",
    "                'model__penalty': ['none']\n",
    "            },\n",
    "            {\n",
    "                'model__penalty': ['l2'],\n",
    "                'model__C': C_params\n",
    "            }\n",
    "        ]\n",
    "        \n",
    "    elif solver == 'liblinear':\n",
    "            params = [\n",
    "            {\n",
    "                'model__penalty': ['l1', 'l2'],\n",
    "                'model__C': C_params\n",
    "            }\n",
    "        ]\n",
    "    elif solver == 'saga':\n",
    "            params = [\n",
    "            {\n",
    "                'model__penalty': ['none']\n",
    "            },\n",
    "            {\n",
    "                'model__penalty': ['l1', 'l2'],\n",
    "                'model__C': C_params\n",
    "            }\n",
    "        ]\n",
    "\n",
    "    optimizer_lr = GridSearchCV(pipeline,\n",
    "                                   params,\n",
    "                                   scoring='accuracy',\n",
    "                                   cv=kfold,\n",
    "                                   n_jobs=-1)\n",
    "    optimizer_lr.fit(X_train, y_train)\n",
    "    print({'solver': solver,\n",
    "           'best params': optimizer_lr.best_params_})\n",
    "    y_pred_lr = optimizer_lr.predict(X_test)\n",
    "    acc = accuracy_score(y_test, y_pred_lr)\n",
    "    print(f'Accuracy: {acc}')"
   ]
  },
  {
   "cell_type": "code",
   "execution_count": 67,
   "id": "e2a68fe3",
   "metadata": {},
   "outputs": [
    {
     "name": "stdout",
     "output_type": "stream",
     "text": [
      "0.7761904761904762\n"
     ]
    }
   ],
   "source": [
    "#as we can see the best logistic regression parameters for this task is solver liblinear with C parameter 1 and l2 model penalty\n",
    "#We can create new model with optimal parameters\n",
    "model_lr_opt = Pipeline([\n",
    "    ('scaler', StandardScaler()),\n",
    "    ('model', LogisticRegression(solver = 'liblinear', C=1, penalty = 'l2'))\n",
    "])\n",
    "\n",
    "model_lr_opt.fit(X_train, y_train)\n",
    "y_pred_lr_opt = model_lr_opt.predict(X_test)\n",
    "acc_lr_opt = accuracy_score(y_pred_lr_opt, y_test)\n",
    "print(acc_lr_opt)"
   ]
  },
  {
   "cell_type": "code",
   "execution_count": null,
   "id": "af0a9ef5",
   "metadata": {},
   "outputs": [],
   "source": []
  }
 ],
 "metadata": {
  "kernelspec": {
   "display_name": "Python 3 (ipykernel)",
   "language": "python",
   "name": "python3"
  },
  "language_info": {
   "codemirror_mode": {
    "name": "ipython",
    "version": 3
   },
   "file_extension": ".py",
   "mimetype": "text/x-python",
   "name": "python",
   "nbconvert_exporter": "python",
   "pygments_lexer": "ipython3",
   "version": "3.9.13"
  },
  "varInspector": {
   "cols": {
    "lenName": 16,
    "lenType": 16,
    "lenVar": 40
   },
   "kernels_config": {
    "python": {
     "delete_cmd_postfix": "",
     "delete_cmd_prefix": "del ",
     "library": "var_list.py",
     "varRefreshCmd": "print(var_dic_list())"
    },
    "r": {
     "delete_cmd_postfix": ") ",
     "delete_cmd_prefix": "rm(",
     "library": "var_list.r",
     "varRefreshCmd": "cat(var_dic_list()) "
    }
   },
   "types_to_exclude": [
    "module",
    "function",
    "builtin_function_or_method",
    "instance",
    "_Feature"
   ],
   "window_display": false
  }
 },
 "nbformat": 4,
 "nbformat_minor": 5
}
