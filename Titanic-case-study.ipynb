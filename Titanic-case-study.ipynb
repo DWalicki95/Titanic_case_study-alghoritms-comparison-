{
 "cells": [
  {
   "cell_type": "markdown",
   "id": "e96b56bd",
   "metadata": {},
   "source": [
    "Goal of this case study is to predict survivors based on Titanic dataset and compare different alghoritms with different hiperparameters. At the end we can choose the best one for this task."
   ]
  },
  {
   "cell_type": "code",
   "execution_count": 1,
   "id": "979e8d01",
   "metadata": {},
   "outputs": [],
   "source": [
    "import pandas as pd\n",
    "import numpy as np\n",
    "import seaborn as sns"
   ]
  },
  {
   "cell_type": "code",
   "execution_count": 2,
   "id": "df7e7f0f",
   "metadata": {},
   "outputs": [
    {
     "data": {
      "text/html": [
       "<div>\n",
       "<style scoped>\n",
       "    .dataframe tbody tr th:only-of-type {\n",
       "        vertical-align: middle;\n",
       "    }\n",
       "\n",
       "    .dataframe tbody tr th {\n",
       "        vertical-align: top;\n",
       "    }\n",
       "\n",
       "    .dataframe thead th {\n",
       "        text-align: right;\n",
       "    }\n",
       "</style>\n",
       "<table border=\"1\" class=\"dataframe\">\n",
       "  <thead>\n",
       "    <tr style=\"text-align: right;\">\n",
       "      <th></th>\n",
       "      <th>pclass</th>\n",
       "      <th>survived</th>\n",
       "      <th>name</th>\n",
       "      <th>sex</th>\n",
       "      <th>age</th>\n",
       "      <th>sibsp</th>\n",
       "      <th>parch</th>\n",
       "      <th>ticket</th>\n",
       "      <th>fare</th>\n",
       "      <th>cabin</th>\n",
       "      <th>embarked</th>\n",
       "      <th>home.dest</th>\n",
       "    </tr>\n",
       "  </thead>\n",
       "  <tbody>\n",
       "    <tr>\n",
       "      <th>0</th>\n",
       "      <td>3</td>\n",
       "      <td>0</td>\n",
       "      <td>Abbing, Mr. Anthony</td>\n",
       "      <td>male</td>\n",
       "      <td>42.0</td>\n",
       "      <td>0</td>\n",
       "      <td>0</td>\n",
       "      <td>C.A. 5547</td>\n",
       "      <td>7.55</td>\n",
       "      <td>NaN</td>\n",
       "      <td>S</td>\n",
       "      <td>NaN</td>\n",
       "    </tr>\n",
       "    <tr>\n",
       "      <th>1</th>\n",
       "      <td>3</td>\n",
       "      <td>0</td>\n",
       "      <td>Abbott, Master. Eugene Joseph</td>\n",
       "      <td>male</td>\n",
       "      <td>13.0</td>\n",
       "      <td>0</td>\n",
       "      <td>2</td>\n",
       "      <td>C.A. 2673</td>\n",
       "      <td>20.25</td>\n",
       "      <td>NaN</td>\n",
       "      <td>S</td>\n",
       "      <td>East Providence, RI</td>\n",
       "    </tr>\n",
       "    <tr>\n",
       "      <th>2</th>\n",
       "      <td>3</td>\n",
       "      <td>0</td>\n",
       "      <td>Abbott, Mr. Rossmore Edward</td>\n",
       "      <td>male</td>\n",
       "      <td>16.0</td>\n",
       "      <td>1</td>\n",
       "      <td>1</td>\n",
       "      <td>C.A. 2673</td>\n",
       "      <td>20.25</td>\n",
       "      <td>NaN</td>\n",
       "      <td>S</td>\n",
       "      <td>East Providence, RI</td>\n",
       "    </tr>\n",
       "    <tr>\n",
       "      <th>3</th>\n",
       "      <td>3</td>\n",
       "      <td>1</td>\n",
       "      <td>Abbott, Mrs. Stanton (Rosa Hunt)</td>\n",
       "      <td>female</td>\n",
       "      <td>35.0</td>\n",
       "      <td>1</td>\n",
       "      <td>1</td>\n",
       "      <td>C.A. 2673</td>\n",
       "      <td>20.25</td>\n",
       "      <td>NaN</td>\n",
       "      <td>S</td>\n",
       "      <td>East Providence, RI</td>\n",
       "    </tr>\n",
       "    <tr>\n",
       "      <th>4</th>\n",
       "      <td>3</td>\n",
       "      <td>1</td>\n",
       "      <td>Abelseth, Miss. Karen Marie</td>\n",
       "      <td>female</td>\n",
       "      <td>16.0</td>\n",
       "      <td>0</td>\n",
       "      <td>0</td>\n",
       "      <td>348125</td>\n",
       "      <td>7.65</td>\n",
       "      <td>NaN</td>\n",
       "      <td>S</td>\n",
       "      <td>Norway Los Angeles, CA</td>\n",
       "    </tr>\n",
       "  </tbody>\n",
       "</table>\n",
       "</div>"
      ],
      "text/plain": [
       "   pclass  survived                              name     sex   age  sibsp  \\\n",
       "0       3         0               Abbing, Mr. Anthony    male  42.0      0   \n",
       "1       3         0     Abbott, Master. Eugene Joseph    male  13.0      0   \n",
       "2       3         0       Abbott, Mr. Rossmore Edward    male  16.0      1   \n",
       "3       3         1  Abbott, Mrs. Stanton (Rosa Hunt)  female  35.0      1   \n",
       "4       3         1       Abelseth, Miss. Karen Marie  female  16.0      0   \n",
       "\n",
       "   parch     ticket   fare cabin embarked               home.dest  \n",
       "0      0  C.A. 5547   7.55   NaN        S                     NaN  \n",
       "1      2  C.A. 2673  20.25   NaN        S     East Providence, RI  \n",
       "2      1  C.A. 2673  20.25   NaN        S     East Providence, RI  \n",
       "3      1  C.A. 2673  20.25   NaN        S     East Providence, RI  \n",
       "4      0     348125   7.65   NaN        S  Norway Los Angeles, CA  "
      ]
     },
     "execution_count": 2,
     "metadata": {},
     "output_type": "execute_result"
    }
   ],
   "source": [
    "data = pd.read_csv('titanic.csv', \n",
    "                   decimal=',')\n",
    "data.head() "
   ]
  },
  {
   "cell_type": "markdown",
   "id": "25321d3b",
   "metadata": {},
   "source": [
    "1. Data preparation"
   ]
  },
  {
   "cell_type": "code",
   "execution_count": 3,
   "id": "9c2f0cae",
   "metadata": {},
   "outputs": [
    {
     "name": "stdout",
     "output_type": "stream",
     "text": [
      "<class 'pandas.core.frame.DataFrame'>\n",
      "RangeIndex: 1046 entries, 0 to 1045\n",
      "Data columns (total 12 columns):\n",
      " #   Column     Non-Null Count  Dtype  \n",
      "---  ------     --------------  -----  \n",
      " 0   pclass     1046 non-null   int64  \n",
      " 1   survived   1046 non-null   int64  \n",
      " 2   name       1046 non-null   object \n",
      " 3   sex        1046 non-null   object \n",
      " 4   age        1046 non-null   float64\n",
      " 5   sibsp      1046 non-null   int64  \n",
      " 6   parch      1046 non-null   int64  \n",
      " 7   ticket     1046 non-null   object \n",
      " 8   fare       1045 non-null   float64\n",
      " 9   cabin      272 non-null    object \n",
      " 10  embarked   1044 non-null   object \n",
      " 11  home.dest  685 non-null    object \n",
      "dtypes: float64(2), int64(4), object(6)\n",
      "memory usage: 98.2+ KB\n"
     ]
    }
   ],
   "source": [
    "data.info()"
   ]
  },
  {
   "cell_type": "code",
   "execution_count": 4,
   "id": "b81fa126",
   "metadata": {},
   "outputs": [],
   "source": [
    "y = data['survived'] #it's our variable that we'd like to predict"
   ]
  },
  {
   "cell_type": "code",
   "execution_count": 5,
   "id": "2aa329a3",
   "metadata": {},
   "outputs": [
    {
     "data": {
      "text/plain": [
       "732"
      ]
     },
     "execution_count": 5,
     "metadata": {},
     "output_type": "execute_result"
    }
   ],
   "source": [
    "data['ticket'].nunique() #it's something like ID of ticket, we can't reasonably \n",
    "#use this information"
   ]
  },
  {
   "cell_type": "code",
   "execution_count": 6,
   "id": "8246b850",
   "metadata": {},
   "outputs": [],
   "source": [
    "data.drop(columns='ticket', axis=1, inplace=True)"
   ]
  },
  {
   "cell_type": "code",
   "execution_count": 7,
   "id": "f9117f15",
   "metadata": {},
   "outputs": [],
   "source": [
    "data.drop(columns='fare', axis=1, inplace=True)\n",
    "#First thing we can see is that fare - ticket price is object Dtype and should be float. \n",
    "#But I decided not to use this variable at all, beacouse: 1) we can't be sure about currency and\n",
    "#correctness (probably it's the summarized price for all people from the ticket) \n",
    "#AND this variable is higly correlated with cabin and pclass. "
   ]
  },
  {
   "cell_type": "code",
   "execution_count": 8,
   "id": "7a56011c",
   "metadata": {},
   "outputs": [
    {
     "data": {
      "text/plain": [
       "C    86\n",
       "B    63\n",
       "D    42\n",
       "E    38\n",
       "A    19\n",
       "F    18\n",
       "G     5\n",
       "T     1\n",
       "Name: cabin, dtype: int64"
      ]
     },
     "execution_count": 8,
     "metadata": {},
     "output_type": "execute_result"
    }
   ],
   "source": [
    "#There is big amount of Nan's BUT it could be very useful information so we'll try to do sth\n",
    "#We'll only use the letter sign - we assume that it's a deck designation. \n",
    "data.cabin.str[0].value_counts()"
   ]
  },
  {
   "cell_type": "code",
   "execution_count": 9,
   "id": "eddd6d11",
   "metadata": {},
   "outputs": [],
   "source": [
    "data[\"deck\"] = data.cabin.str[0].fillna(\"Unknown\").replace({\"G\":\"F\", \"T\":\"F\"})\n",
    "#There is very little\n",
    "#samples in classes T and G so we can add them to class F. Nan's we turn into class Unknown."
   ]
  },
  {
   "cell_type": "code",
   "execution_count": 10,
   "id": "4b963a0d",
   "metadata": {},
   "outputs": [],
   "source": [
    "data.drop(['cabin'], axis=1, inplace=True) #now we can delete column cabin"
   ]
  },
  {
   "cell_type": "code",
   "execution_count": 11,
   "id": "1d656c4c",
   "metadata": {},
   "outputs": [],
   "source": [
    "data['embarked'].fillna(data['embarked'].value_counts().index[0], inplace=True)\n",
    "#Column 'embarked' it's the port from which passengers departed. It seems as usefull information\n",
    "#but it's probably highly correlated with cabin (now deck) and it's probably more informative but \n",
    "#on the other hand it can be more informative for us than ID's of cabins that we've alreade \n",
    "#established it's hard to locate on ship\n",
    "#We'll use this column and fill Nan's with most common value which is 'S'. There is only 2 Nan's\n",
    "#so it shouldn't be a mistake."
   ]
  },
  {
   "cell_type": "code",
   "execution_count": 12,
   "id": "1ef40325",
   "metadata": {},
   "outputs": [],
   "source": [
    "#home.dest (home destination) is the column that \n",
    "#we will not use as it does not carry any information related to the disaster"
   ]
  },
  {
   "cell_type": "code",
   "execution_count": 13,
   "id": "e017253e",
   "metadata": {},
   "outputs": [
    {
     "data": {
      "text/html": [
       "<div>\n",
       "<style scoped>\n",
       "    .dataframe tbody tr th:only-of-type {\n",
       "        vertical-align: middle;\n",
       "    }\n",
       "\n",
       "    .dataframe tbody tr th {\n",
       "        vertical-align: top;\n",
       "    }\n",
       "\n",
       "    .dataframe thead th {\n",
       "        text-align: right;\n",
       "    }\n",
       "</style>\n",
       "<table border=\"1\" class=\"dataframe\">\n",
       "  <thead>\n",
       "    <tr style=\"text-align: right;\">\n",
       "      <th></th>\n",
       "      <th>pclass</th>\n",
       "      <th>age</th>\n",
       "      <th>sibsp</th>\n",
       "      <th>parch</th>\n",
       "      <th>sex_male</th>\n",
       "      <th>embarked_Q</th>\n",
       "      <th>embarked_S</th>\n",
       "      <th>deck_B</th>\n",
       "      <th>deck_C</th>\n",
       "      <th>deck_D</th>\n",
       "      <th>deck_E</th>\n",
       "      <th>deck_F</th>\n",
       "      <th>deck_Unknown</th>\n",
       "    </tr>\n",
       "  </thead>\n",
       "  <tbody>\n",
       "    <tr>\n",
       "      <th>0</th>\n",
       "      <td>3</td>\n",
       "      <td>42.0</td>\n",
       "      <td>0</td>\n",
       "      <td>0</td>\n",
       "      <td>1</td>\n",
       "      <td>0</td>\n",
       "      <td>1</td>\n",
       "      <td>0</td>\n",
       "      <td>0</td>\n",
       "      <td>0</td>\n",
       "      <td>0</td>\n",
       "      <td>0</td>\n",
       "      <td>1</td>\n",
       "    </tr>\n",
       "    <tr>\n",
       "      <th>1</th>\n",
       "      <td>3</td>\n",
       "      <td>13.0</td>\n",
       "      <td>0</td>\n",
       "      <td>2</td>\n",
       "      <td>1</td>\n",
       "      <td>0</td>\n",
       "      <td>1</td>\n",
       "      <td>0</td>\n",
       "      <td>0</td>\n",
       "      <td>0</td>\n",
       "      <td>0</td>\n",
       "      <td>0</td>\n",
       "      <td>1</td>\n",
       "    </tr>\n",
       "    <tr>\n",
       "      <th>2</th>\n",
       "      <td>3</td>\n",
       "      <td>16.0</td>\n",
       "      <td>1</td>\n",
       "      <td>1</td>\n",
       "      <td>1</td>\n",
       "      <td>0</td>\n",
       "      <td>1</td>\n",
       "      <td>0</td>\n",
       "      <td>0</td>\n",
       "      <td>0</td>\n",
       "      <td>0</td>\n",
       "      <td>0</td>\n",
       "      <td>1</td>\n",
       "    </tr>\n",
       "    <tr>\n",
       "      <th>3</th>\n",
       "      <td>3</td>\n",
       "      <td>35.0</td>\n",
       "      <td>1</td>\n",
       "      <td>1</td>\n",
       "      <td>0</td>\n",
       "      <td>0</td>\n",
       "      <td>1</td>\n",
       "      <td>0</td>\n",
       "      <td>0</td>\n",
       "      <td>0</td>\n",
       "      <td>0</td>\n",
       "      <td>0</td>\n",
       "      <td>1</td>\n",
       "    </tr>\n",
       "    <tr>\n",
       "      <th>4</th>\n",
       "      <td>3</td>\n",
       "      <td>16.0</td>\n",
       "      <td>0</td>\n",
       "      <td>0</td>\n",
       "      <td>0</td>\n",
       "      <td>0</td>\n",
       "      <td>1</td>\n",
       "      <td>0</td>\n",
       "      <td>0</td>\n",
       "      <td>0</td>\n",
       "      <td>0</td>\n",
       "      <td>0</td>\n",
       "      <td>1</td>\n",
       "    </tr>\n",
       "  </tbody>\n",
       "</table>\n",
       "</div>"
      ],
      "text/plain": [
       "   pclass   age  sibsp  parch  sex_male  embarked_Q  embarked_S  deck_B  \\\n",
       "0       3  42.0      0      0         1           0           1       0   \n",
       "1       3  13.0      0      2         1           0           1       0   \n",
       "2       3  16.0      1      1         1           0           1       0   \n",
       "3       3  35.0      1      1         0           0           1       0   \n",
       "4       3  16.0      0      0         0           0           1       0   \n",
       "\n",
       "   deck_C  deck_D  deck_E  deck_F  deck_Unknown  \n",
       "0       0       0       0       0             1  \n",
       "1       0       0       0       0             1  \n",
       "2       0       0       0       0             1  \n",
       "3       0       0       0       0             1  \n",
       "4       0       0       0       0             1  "
      ]
     },
     "execution_count": 13,
     "metadata": {},
     "output_type": "execute_result"
    }
   ],
   "source": [
    "X = pd.get_dummies(data [['pclass', 'sex', 'age', 'sibsp', 'parch', \n",
    "                          'embarked', 'deck']], drop_first=True)\n",
    "X.head() #'sex','embarked' and 'deck' are categorical columns so they should be encoded."
   ]
  },
  {
   "cell_type": "markdown",
   "id": "bafcb5bc",
   "metadata": {},
   "source": [
    "2. Modeling"
   ]
  },
  {
   "cell_type": "markdown",
   "id": "bfe461be",
   "metadata": {},
   "source": [
    "2.1 Decision Tree Classifier"
   ]
  },
  {
   "cell_type": "code",
   "execution_count": 14,
   "id": "7d7d5b9f",
   "metadata": {},
   "outputs": [],
   "source": [
    "from sklearn.model_selection import train_test_split"
   ]
  },
  {
   "cell_type": "code",
   "execution_count": 56,
   "id": "03966d66",
   "metadata": {},
   "outputs": [],
   "source": [
    "X_train, X_test, y_train, y_test = train_test_split(X, y, test_size=0.2, random_state=123)\n",
    "#now we split data into training and testing. We can assume basing on dataset size that 80:20 \n",
    "#should be correct ratio"
   ]
  },
  {
   "cell_type": "code",
   "execution_count": 16,
   "id": "5268d9a5",
   "metadata": {},
   "outputs": [],
   "source": [
    "from sklearn.tree import DecisionTreeClassifier\n",
    "from sklearn.preprocessing import StandardScaler\n",
    "from sklearn.model_selection import GridSearchCV\n",
    "from sklearn.metrics import accuracy_score\n",
    "from sklearn.model_selection import KFold, StratifiedKFold"
   ]
  },
  {
   "cell_type": "code",
   "execution_count": 17,
   "id": "99eb2ba3",
   "metadata": {},
   "outputs": [
    {
     "name": "stdout",
     "output_type": "stream",
     "text": [
      "0.7142857142857143\n"
     ]
    }
   ],
   "source": [
    "model_dt = DecisionTreeClassifier()\n",
    "model_dt.fit(X_train, y_train)\n",
    "y_pred_dt = model_dt.predict(X_test)\n",
    "acc_dt = accuracy_score(y_test, y_pred_dt)\n",
    "print(acc_dt)\n",
    "#~70% accuracy when we fit Decision Tree Classifier without parameter optimization"
   ]
  },
  {
   "cell_type": "code",
   "execution_count": 18,
   "id": "7fb3d96f",
   "metadata": {},
   "outputs": [
    {
     "name": "stdout",
     "output_type": "stream",
     "text": [
      "{'criterion': 'gini', 'max_depth': 12, 'min_samples_leaf': 5}\n",
      "0.7857142857142857\n"
     ]
    }
   ],
   "source": [
    "kfold = StratifiedKFold(10, shuffle=True, random_state=123)\n",
    "\n",
    "model_dt_opt = DecisionTreeClassifier()\n",
    "params = {\"min_samples_leaf\": np.arange(1, 21),\n",
    "          'max_depth': np.arange(1, 16),\n",
    "         'criterion': ['gini', 'entropy']}\n",
    "optimizer_dt = GridSearchCV(model_dt, \n",
    "                         params, \n",
    "                         scoring=\"accuracy\", \n",
    "                         cv=kfold, \n",
    "                         n_jobs=-1)\n",
    "optimizer_dt.fit(X_train, y_train)\n",
    "\n",
    "y_pred_dt = optimizer_dt.best_estimator_.predict(X_test)\n",
    "print(optimizer_dt.best_params_)\n",
    "print(accuracy_score(y_test, y_pred_dt))"
   ]
  },
  {
   "cell_type": "code",
   "execution_count": 19,
   "id": "2498bbaa",
   "metadata": {},
   "outputs": [
    {
     "name": "stdout",
     "output_type": "stream",
     "text": [
      "0.7904761904761904\n"
     ]
    }
   ],
   "source": [
    "model_dt_opt = DecisionTreeClassifier(criterion='gini', max_depth=None, min_samples_leaf=5)\n",
    "model_dt_opt.fit(X_train, y_train)\n",
    "y_pred_dt_opt = model_dt_opt.predict(X_test)\n",
    "acc_dt_opt = accuracy_score(y_test, y_pred_dt_opt)\n",
    "print(acc_dt_opt)\n",
    "#Decision Tree Classifier with optimal parameters. Accuracy increases to ~79%"
   ]
  },
  {
   "cell_type": "markdown",
   "id": "117288d7",
   "metadata": {},
   "source": [
    "2.2 Logistic regression"
   ]
  },
  {
   "cell_type": "code",
   "execution_count": 20,
   "id": "f0dff24d",
   "metadata": {},
   "outputs": [],
   "source": [
    "from sklearn.linear_model import LogisticRegression\n",
    "from sklearn.pipeline import Pipeline"
   ]
  },
  {
   "cell_type": "code",
   "execution_count": 21,
   "id": "ec71114f",
   "metadata": {},
   "outputs": [
    {
     "name": "stdout",
     "output_type": "stream",
     "text": [
      "0.7857142857142857\n"
     ]
    }
   ],
   "source": [
    "model_lr = LogisticRegression(max_iter=10e5)\n",
    "model_lr.fit(X_train, y_train)\n",
    "y_pred_lr = model_lr.predict(X_test)\n",
    "acc_lr = accuracy_score(y_test, y_pred_lr)\n",
    "print(acc_lr)\n",
    "#~78% accuracy when we use Linear Regression model without optimization"
   ]
  },
  {
   "cell_type": "code",
   "execution_count": 22,
   "id": "17514805",
   "metadata": {},
   "outputs": [
    {
     "data": {
      "text/plain": [
       "{'model__C': 0.1, 'model__penalty': 'l2'}"
      ]
     },
     "execution_count": 22,
     "metadata": {},
     "output_type": "execute_result"
    }
   ],
   "source": [
    "#Optimization\n",
    "kfold = StratifiedKFold(10, shuffle=True, random_state=123)\n",
    "\n",
    "pipeline = Pipeline([\n",
    "    ('scaler', StandardScaler()),\n",
    "    ('model', LogisticRegression(solver='saga'))\n",
    "])\n",
    "params = [\n",
    "    {\n",
    "        'model__penalty': ['none']\n",
    "    },\n",
    "    {\n",
    "        'model__penalty': ['l1', 'l2'],\n",
    "        'model__C': [0.01, 0.1, 1, 10, 100, 1000]\n",
    "    }\n",
    "]\n",
    "\n",
    "optimizer_lr = GridSearchCV(pipeline,\n",
    "                           params,\n",
    "                           scoring='accuracy',\n",
    "                           cv=kfold,\n",
    "                           n_jobs=-1)\n",
    "optimizer_lr.fit(X_train, y_train)\n",
    "optimizer_lr.best_params_"
   ]
  },
  {
   "cell_type": "code",
   "execution_count": 23,
   "id": "093ba98f",
   "metadata": {},
   "outputs": [
    {
     "name": "stdout",
     "output_type": "stream",
     "text": [
      "0.7714285714285715\n"
     ]
    }
   ],
   "source": [
    "model_lr_opt = Pipeline([\n",
    "    ('scaler', StandardScaler()),\n",
    "    ('model', LogisticRegression(penalty='l2', C=0.1))\n",
    "])\n",
    "model_lr_opt.fit(X_train, y_train)\n",
    "y_pred_lr_opt = model_lr_opt.predict(X_test)\n",
    "acc_lr_opt = accuracy_score(y_test, y_pred_lr_opt)\n",
    "print(acc_lr_opt)\n",
    "#after optimization we are at the same level of accuracy"
   ]
  },
  {
   "cell_type": "code",
   "execution_count": 24,
   "id": "6c4f65a7",
   "metadata": {},
   "outputs": [],
   "source": [
    "from sklearn import metrics"
   ]
  },
  {
   "cell_type": "code",
   "execution_count": 25,
   "id": "57aed9ae",
   "metadata": {},
   "outputs": [
    {
     "name": "stdout",
     "output_type": "stream",
     "text": [
      "[[96 21]\n",
      " [24 69]]\n"
     ]
    }
   ],
   "source": [
    "cm = metrics.confusion_matrix(y_test, y_pred_lr)\n",
    "print(cm)"
   ]
  },
  {
   "cell_type": "code",
   "execution_count": 26,
   "id": "729ed221",
   "metadata": {},
   "outputs": [
    {
     "name": "stdout",
     "output_type": "stream",
     "text": [
      "{'solver': 'lbfgs', 'best params': {'model__C': 0.1, 'model__penalty': 'l2'}}\n",
      "Accuracy: 0.7714285714285715\n",
      "{'solver': 'liblinear', 'best params': {'model__C': 1.0, 'model__penalty': 'l2'}}\n",
      "Accuracy: 0.7761904761904762\n",
      "{'solver': 'newton-cg', 'best params': {'model__C': 0.1, 'model__penalty': 'l2'}}\n",
      "Accuracy: 0.7714285714285715\n",
      "{'solver': 'sag', 'best params': {'model__C': 0.1, 'model__penalty': 'l2'}}\n",
      "Accuracy: 0.7714285714285715\n",
      "{'solver': 'saga', 'best params': {'model__C': 0.1, 'model__penalty': 'l2'}}\n",
      "Accuracy: 0.7714285714285715\n"
     ]
    }
   ],
   "source": [
    "#Optimization\n",
    "kfold = StratifiedKFold(10, shuffle=True, random_state=123)\n",
    "\n",
    "solvers_list = ['lbfgs', 'liblinear', 'newton-cg', 'sag', 'saga']\n",
    "C_params = [10e-2, 10e-1, 1, 10, 10e2, 10e3]\n",
    "\n",
    "for solver in solvers_list:\n",
    "    pipeline = Pipeline([\n",
    "        ('scaler', StandardScaler()),\n",
    "        ('model', LogisticRegression(solver=solver))\n",
    "    ])\n",
    "    if solver in ['lbfgs', 'newton-cg', 'sag']:\n",
    "        params = [\n",
    "            {\n",
    "                'model__penalty': ['none']\n",
    "            },\n",
    "            {\n",
    "                'model__penalty': ['l2'],\n",
    "                'model__C': C_params\n",
    "            }\n",
    "        ]\n",
    "        \n",
    "    elif solver == 'liblinear':\n",
    "            params = [\n",
    "            {\n",
    "                'model__penalty': ['l1', 'l2'],\n",
    "                'model__C': C_params\n",
    "            }\n",
    "        ]\n",
    "    elif solver == 'saga':\n",
    "            params = [\n",
    "            {\n",
    "                'model__penalty': ['none']\n",
    "            },\n",
    "            {\n",
    "                'model__penalty': ['l1', 'l2'],\n",
    "                'model__C': C_params\n",
    "            }\n",
    "        ]\n",
    "\n",
    "    optimizer_lr = GridSearchCV(pipeline,\n",
    "                                   params,\n",
    "                                   scoring='accuracy',\n",
    "                                   cv=kfold,\n",
    "                                   n_jobs=-1)\n",
    "    optimizer_lr.fit(X_train, y_train)\n",
    "    print({'solver': solver,\n",
    "           'best params': optimizer_lr.best_params_})\n",
    "    y_pred_lr = optimizer_lr.predict(X_test)\n",
    "    acc = accuracy_score(y_test, y_pred_lr)\n",
    "    print(f'Accuracy: {acc}')"
   ]
  },
  {
   "cell_type": "code",
   "execution_count": 27,
   "id": "e2a68fe3",
   "metadata": {},
   "outputs": [
    {
     "name": "stdout",
     "output_type": "stream",
     "text": [
      "0.7761904761904762\n"
     ]
    }
   ],
   "source": [
    "#as we can see the best logistic regression parameters for this task is solver liblinear with C parameter 1 and l2 model penalty\n",
    "#We can create new model with optimal parameters\n",
    "model_lr_opt = Pipeline([\n",
    "    ('scaler', StandardScaler()),\n",
    "    ('model', LogisticRegression(solver = 'liblinear', C=1, penalty = 'l2'))\n",
    "])\n",
    "\n",
    "model_lr_opt.fit(X_train, y_train)\n",
    "y_pred_lr_opt = model_lr_opt.predict(X_test)\n",
    "acc_lr_opt = accuracy_score(y_pred_lr_opt, y_test)\n",
    "print(acc_lr_opt)"
   ]
  },
  {
   "cell_type": "markdown",
   "id": "17c7c1e3",
   "metadata": {},
   "source": [
    "2.3 SVM"
   ]
  },
  {
   "cell_type": "code",
   "execution_count": 28,
   "id": "fc72fac2",
   "metadata": {},
   "outputs": [],
   "source": [
    "#SVC"
   ]
  },
  {
   "cell_type": "code",
   "execution_count": 29,
   "id": "c5fea028",
   "metadata": {},
   "outputs": [],
   "source": [
    "from sklearn.svm import SVC"
   ]
  },
  {
   "cell_type": "code",
   "execution_count": 30,
   "id": "db72c19c",
   "metadata": {},
   "outputs": [
    {
     "name": "stdout",
     "output_type": "stream",
     "text": [
      "0.780952380952381\n"
     ]
    }
   ],
   "source": [
    "model_SVC = Pipeline([\n",
    "    ('scaler', StandardScaler()),\n",
    "    ('model', SVC(max_iter=10e5))\n",
    "])\n",
    "model_SVC.fit(X_train, y_train)\n",
    "y_pred_SVC = model_SVC.predict(X_test)\n",
    "acc_SVC = accuracy_score(y_test, y_pred_SVC)\n",
    "print(acc_SVC)"
   ]
  },
  {
   "cell_type": "code",
   "execution_count": 57,
   "id": "762d4bf9",
   "metadata": {},
   "outputs": [
    {
     "data": {
      "text/plain": [
       "0.7952380952380952"
      ]
     },
     "execution_count": 57,
     "metadata": {},
     "output_type": "execute_result"
    }
   ],
   "source": [
    "#SVC optimization\n",
    "\n",
    "model_SVC_opt = Pipeline([\n",
    "    ('scaler', StandardScaler()),\n",
    "    ('model', SVC(max_iter=10e7))\n",
    "])\n",
    "params = {'model__C':[0.01, 0.1, 1, 10],\n",
    "          'model__gamma':[1,0.1,0.001,0.0001], \n",
    "          'model__kernel':['linear','rbf']}\n",
    "\n",
    "optimizer_SVC = GridSearchCV(model_SVC_opt,\n",
    "                             params,\n",
    "                             scoring='accuracy',\n",
    "                             cv=kfold,\n",
    "                             n_jobs=-1\n",
    ")\n",
    "optimizer_SVC.fit(X_train, y_train)    \n",
    "y_pred_SVC_opt = optimizer_SVC.predict(X_test)\n",
    "accuracy_score(y_test, y_pred_SVC_opt)"
   ]
  },
  {
   "cell_type": "code",
   "execution_count": 59,
   "id": "93d19a30",
   "metadata": {},
   "outputs": [
    {
     "data": {
      "text/plain": [
       "{'model__C': 1, 'model__gamma': 0.1, 'model__kernel': 'rbf'}"
      ]
     },
     "execution_count": 59,
     "metadata": {},
     "output_type": "execute_result"
    }
   ],
   "source": [
    "optimizer_SVC.best_params_"
   ]
  },
  {
   "cell_type": "code",
   "execution_count": 60,
   "id": "b4aa546a",
   "metadata": {},
   "outputs": [
    {
     "name": "stdout",
     "output_type": "stream",
     "text": [
      "0.780952380952381\n"
     ]
    }
   ],
   "source": [
    "pipeline_SVC_opt = Pipeline([\n",
    "    ('scaler', StandardScaler()),\n",
    "    ('model', SVC(max_iter=10e7, C=1, gamma=0.1, kernel='rbf'))\n",
    "])\n",
    "model_SVC_opt.fit(X_train, y_train)\n",
    "y_SVC_opt = model_SVC_opt.predict(X_test)\n",
    "acc_SVC_opt = accuracy_score(y_test, y_SVC_opt)\n",
    "print(acc_SVC_opt)"
   ]
  },
  {
   "cell_type": "markdown",
   "id": "e1cd99a6",
   "metadata": {},
   "source": [
    "2.4 Random Forest"
   ]
  },
  {
   "cell_type": "code",
   "execution_count": 34,
   "id": "b6ebcf24",
   "metadata": {},
   "outputs": [],
   "source": [
    "from sklearn.ensemble import RandomForestClassifier\n",
    "import matplotlib.pyplot as plt"
   ]
  },
  {
   "cell_type": "code",
   "execution_count": 35,
   "id": "144299e1",
   "metadata": {},
   "outputs": [],
   "source": [
    "# We'll use Random Forest Classifier with optimal parameters found in point 2.1.\n",
    "#The problem is to find optimal number of estimators."
   ]
  },
  {
   "cell_type": "code",
   "execution_count": 36,
   "id": "ad832afd",
   "metadata": {},
   "outputs": [
    {
     "data": {
      "text/plain": [
       "0.7904761904761904"
      ]
     },
     "execution_count": 36,
     "metadata": {},
     "output_type": "execute_result"
    }
   ],
   "source": [
    "{'criterion': 'gini', 'max_depth': 12, 'min_samples_leaf': 5}\n",
    "0.7904761904761904"
   ]
  },
  {
   "cell_type": "code",
   "execution_count": 37,
   "id": "57c2c762",
   "metadata": {},
   "outputs": [],
   "source": [
    "N_estimators = np.arange(3, 802 , 25)\n",
    "accuracies = []\n",
    "for n_trees in N_estimators:\n",
    "    model_rfc = RandomForestClassifier(n_trees, criterion='gini', \n",
    "                                       max_depth=12, min_samples_leaf=5)\n",
    "    model_rfc.fit(X_train, y_train)\n",
    "    y_pred_rfc = model_rfc.predict(X_test)\n",
    "    accuracies.append(accuracy_score(y_test, y_pred_rfc))"
   ]
  },
  {
   "cell_type": "code",
   "execution_count": 38,
   "id": "3bce60be",
   "metadata": {},
   "outputs": [
    {
     "data": {
      "image/png": "[encoded data removed]",
      "text/plain": [
       "<Figure size 640x480 with 1 Axes>"
      ]
     },
     "metadata": {},
     "output_type": "display_data"
    }
   ],
   "source": [
    "plt.style.use('default')\n",
    "plt.plot(N_estimators, accuracies)\n",
    "plt.grid()\n",
    "plt.show()\n",
    "#We can see some peaks but it's hard to interpret what number of trees is the \n",
    "#best, but probably there is no sense to test wider range than 800."
   ]
  },
  {
   "cell_type": "code",
   "execution_count": 39,
   "id": "c762fb8a",
   "metadata": {},
   "outputs": [],
   "source": [
    "#Let's find parameters by GridSearch\n",
    "model_rfc_opt = RandomForestClassifier(n_trees, criterion='gini', \n",
    "                                       max_depth=12, min_samples_leaf=5)\n",
    "params = {'n_estimators': np.arange(100, 801, 25)}\n",
    "optimizer_rfc = GridSearchCV(model_rfc_opt,\n",
    "                            params,\n",
    "                            scoring='accuracy',\n",
    "                            cv=kfold,\n",
    "                            n_jobs=-1)\n",
    "optimizer_rfc.fit(X_train, y_train)\n",
    "y_pred_rfc = optimizer_rfc.best_estimator_.predict(X_test)"
   ]
  },
  {
   "cell_type": "code",
   "execution_count": 40,
   "id": "380392bb",
   "metadata": {},
   "outputs": [
    {
     "data": {
      "text/plain": [
       "{'n_estimators': 200}"
      ]
     },
     "execution_count": 40,
     "metadata": {},
     "output_type": "execute_result"
    }
   ],
   "source": [
    "optimizer_rfc.best_params_"
   ]
  },
  {
   "cell_type": "code",
   "execution_count": 64,
   "id": "bc34d96a",
   "metadata": {},
   "outputs": [
    {
     "name": "stdout",
     "output_type": "stream",
     "text": [
      "0.8333333333333334\n"
     ]
    }
   ],
   "source": [
    "#Let's create model with optimal parameters\n",
    "model_rfc_opt = RandomForestClassifier(200, criterion='gini', \n",
    "                                       max_depth=12, min_samples_leaf=5)\n",
    "model_rfc_opt.fit(X_train, y_train)\n",
    "y_pred_rfc = model_rfc_opt.predict(X_test)\n",
    "acc_rfc_opt = accuracy_score(y_test, y_pred_rfc)\n",
    "print(acc_rfc_opt)"
   ]
  },
  {
   "cell_type": "markdown",
   "id": "d640631a",
   "metadata": {},
   "source": [
    "2.5 Bagging"
   ]
  },
  {
   "cell_type": "code",
   "execution_count": 42,
   "id": "5968b742",
   "metadata": {},
   "outputs": [],
   "source": [
    "#Now we will test Bagging with SVM estimator and check accuracy"
   ]
  },
  {
   "cell_type": "code",
   "execution_count": 43,
   "id": "01c338ea",
   "metadata": {},
   "outputs": [],
   "source": [
    "from sklearn.ensemble import BaggingClassifier"
   ]
  },
  {
   "cell_type": "code",
   "execution_count": 44,
   "id": "e8e3a9c8",
   "metadata": {},
   "outputs": [],
   "source": [
    "dec_tree = DecisionTreeClassifier(criterion='gini', max_depth=12, min_samples_leaf=5)"
   ]
  },
  {
   "cell_type": "code",
   "execution_count": 45,
   "id": "27aa59b7",
   "metadata": {},
   "outputs": [
    {
     "name": "stdout",
     "output_type": "stream",
     "text": [
      "0.7857142857142857\n"
     ]
    }
   ],
   "source": [
    "model_bagging = BaggingClassifier(dec_tree)\n",
    "model_bagging.fit(X_train, y_train)\n",
    "y_pred_bagging = model_bagging.predict(X_test)\n",
    "acc_bagging = accuracy_score(y_test, y_pred_bagging)\n",
    "print(acc_bagging)"
   ]
  },
  {
   "cell_type": "code",
   "execution_count": 46,
   "id": "5f13a3ef",
   "metadata": {},
   "outputs": [],
   "source": [
    "#Now let's find optimal parameters"
   ]
  },
  {
   "cell_type": "code",
   "execution_count": 47,
   "id": "b2107d04",
   "metadata": {},
   "outputs": [
    {
     "data": {
      "text/plain": [
       "0.8"
      ]
     },
     "execution_count": 47,
     "metadata": {},
     "output_type": "execute_result"
    }
   ],
   "source": [
    "model_bagging_opt = BaggingClassifier(dec_tree)\n",
    "params = {'n_estimators': np.arange(100, 501, 100),\n",
    "         'max_samples': [0.25, 0.5, 0.75, 1],\n",
    "         'max_features': [0.25, 0.5, 0.75, 1]}\n",
    "\n",
    "optimizer_bagging = GridSearchCV(model_bagging_opt,\n",
    "                                params,\n",
    "                                scoring='accuracy',\n",
    "                                cv=kfold,\n",
    "                                n_jobs=-1)\n",
    "optimizer_bagging.fit(X_train, y_train)\n",
    "y_pred_bagging_opt = optimizer_bagging.predict(X_test)\n",
    "accuracy_score(y_test, y_pred_bagging_opt)"
   ]
  },
  {
   "cell_type": "code",
   "execution_count": 48,
   "id": "310bef90",
   "metadata": {},
   "outputs": [
    {
     "data": {
      "text/plain": [
       "{'max_features': 0.75, 'max_samples': 0.75, 'n_estimators': 200}"
      ]
     },
     "execution_count": 48,
     "metadata": {},
     "output_type": "execute_result"
    }
   ],
   "source": [
    "optimizer_bagging.best_params_"
   ]
  },
  {
   "cell_type": "code",
   "execution_count": 52,
   "id": "38458502",
   "metadata": {},
   "outputs": [
    {
     "name": "stdout",
     "output_type": "stream",
     "text": [
      "0.7857142857142857\n"
     ]
    }
   ],
   "source": [
    "model_bagging_opt = BaggingClassifier(base_estimator=pipeline_SVC_opt, n_estimators=200, \n",
    "                                      max_samples=0.75, max_features=0.75)\n",
    "model_bagging_opt.fit(X_train, y_train)\n",
    "y_pred_bagging_opt = model_bagging.predict(X_test)\n",
    "acc_bagging_opt = accuracy_score(y_test, y_pred_bagging_opt)\n",
    "print(acc_bagging_opt)"
   ]
  },
  {
   "cell_type": "markdown",
   "id": "1e3470de",
   "metadata": {},
   "source": [
    "Models summary"
   ]
  },
  {
   "cell_type": "code",
   "execution_count": 65,
   "id": "8961cfc2",
   "metadata": {},
   "outputs": [
    {
     "data": {
      "text/html": [
       "<div>\n",
       "<style scoped>\n",
       "    .dataframe tbody tr th:only-of-type {\n",
       "        vertical-align: middle;\n",
       "    }\n",
       "\n",
       "    .dataframe tbody tr th {\n",
       "        vertical-align: top;\n",
       "    }\n",
       "\n",
       "    .dataframe thead th {\n",
       "        text-align: right;\n",
       "    }\n",
       "</style>\n",
       "<table border=\"1\" class=\"dataframe\">\n",
       "  <thead>\n",
       "    <tr style=\"text-align: right;\">\n",
       "      <th></th>\n",
       "      <th>Models</th>\n",
       "      <th>Optimization</th>\n",
       "      <th>Accuracy</th>\n",
       "    </tr>\n",
       "  </thead>\n",
       "  <tbody>\n",
       "    <tr>\n",
       "      <th>0</th>\n",
       "      <td>RandomForest</td>\n",
       "      <td>Yes</td>\n",
       "      <td>0.833333</td>\n",
       "    </tr>\n",
       "    <tr>\n",
       "      <th>1</th>\n",
       "      <td>Decision Tree</td>\n",
       "      <td>Yes</td>\n",
       "      <td>0.790476</td>\n",
       "    </tr>\n",
       "    <tr>\n",
       "      <th>2</th>\n",
       "      <td>Logistic Regression</td>\n",
       "      <td>No</td>\n",
       "      <td>0.785714</td>\n",
       "    </tr>\n",
       "    <tr>\n",
       "      <th>3</th>\n",
       "      <td>Bagging</td>\n",
       "      <td>No</td>\n",
       "      <td>0.785714</td>\n",
       "    </tr>\n",
       "    <tr>\n",
       "      <th>4</th>\n",
       "      <td>Bagging</td>\n",
       "      <td>Yes</td>\n",
       "      <td>0.785714</td>\n",
       "    </tr>\n",
       "    <tr>\n",
       "      <th>5</th>\n",
       "      <td>SVC</td>\n",
       "      <td>No</td>\n",
       "      <td>0.780952</td>\n",
       "    </tr>\n",
       "    <tr>\n",
       "      <th>6</th>\n",
       "      <td>SVC</td>\n",
       "      <td>Yes</td>\n",
       "      <td>0.780952</td>\n",
       "    </tr>\n",
       "    <tr>\n",
       "      <th>7</th>\n",
       "      <td>Logistic Regression</td>\n",
       "      <td>Yes</td>\n",
       "      <td>0.776190</td>\n",
       "    </tr>\n",
       "    <tr>\n",
       "      <th>8</th>\n",
       "      <td>Decision Tree</td>\n",
       "      <td>No</td>\n",
       "      <td>0.714286</td>\n",
       "    </tr>\n",
       "  </tbody>\n",
       "</table>\n",
       "</div>"
      ],
      "text/plain": [
       "                Models Optimization  Accuracy\n",
       "0         RandomForest          Yes  0.833333\n",
       "1        Decision Tree          Yes  0.790476\n",
       "2  Logistic Regression           No  0.785714\n",
       "3              Bagging           No  0.785714\n",
       "4              Bagging          Yes  0.785714\n",
       "5                  SVC           No  0.780952\n",
       "6                  SVC          Yes  0.780952\n",
       "7  Logistic Regression          Yes  0.776190\n",
       "8        Decision Tree           No  0.714286"
      ]
     },
     "execution_count": 65,
     "metadata": {},
     "output_type": "execute_result"
    }
   ],
   "source": [
    "models = ['Logistic Regression', 'Logistic Regression', 'Decision Tree', 'Decision Tree',\n",
    "         'RandomForest', 'SVC', 'SVC', 'Bagging', 'Bagging']\n",
    "cond = ['No', 'Yes', 'No', 'Yes', 'Yes', 'No', 'Yes', 'No', 'Yes']\n",
    "accuracies = [acc_lr, acc_lr_opt, acc_dt, acc_dt_opt, acc_rfc_opt, acc_SVC, acc_SVC_opt,\n",
    "            acc_bagging, acc_bagging_opt]\n",
    "models_sum = pd.DataFrame({'Models': models, 'Optimization': cond, 'Accuracy': accuracies})\n",
    "models_sum = models_sum.sort_values(by='Accuracy', ascending=False).reset_index(drop=True)\n",
    "models_sum"
   ]
  },
  {
   "cell_type": "code",
   "execution_count": 66,
   "id": "7f214a93",
   "metadata": {},
   "outputs": [
    {
     "data": {
      "image/png": "[encoded data removed]",
      "text/plain": [
       "<Figure size 640x480 with 1 Axes>"
      ]
     },
     "metadata": {},
     "output_type": "display_data"
    }
   ],
   "source": [
    "models_sum.pivot(index='Models', columns='Optimization', \n",
    "                 values='Accuracy').plot(kind='bar', rot=0)\n",
    "plt.ylim([0.7, 0.85])\n",
    "plt.xticks(rotation=45)\n",
    "plt.ylabel('Accuracy')\n",
    "plt.grid(axis='y', linestyle='--', alpha=0.5);"
   ]
  },
  {
   "cell_type": "markdown",
   "id": "9a1ebb03",
   "metadata": {},
   "source": [
    "Conslusions: Among all the tested models RandomForest turned out to be the best (accuracy ~ 83,3%). Optimal performance of the alghortim was obtained with 200 trees, Gini criterion, maximum depth 12 and the minimum number of samples to split a node 5.There is significant difference in the non-optimized and optimized DecisionTree alghoritm, while in the others there are no big differences.\n"
   ]
  }
 ],
 "metadata": {
  "kernelspec": {
   "display_name": "Python 3 (ipykernel)",
   "language": "python",
   "name": "python3"
  },
  "language_info": {
   "codemirror_mode": {
    "name": "ipython",
    "version": 3
   },
   "file_extension": ".py",
   "mimetype": "text/x-python",
   "name": "python",
   "nbconvert_exporter": "python",
   "pygments_lexer": "ipython3",
   "version": "3.9.13"
  },
  "varInspector": {
   "cols": {
    "lenName": 16,
    "lenType": 16,
    "lenVar": 40
   },
   "kernels_config": {
    "python": {
     "delete_cmd_postfix": "",
     "delete_cmd_prefix": "del ",
     "library": "var_list.py",
     "varRefreshCmd": "print(var_dic_list())"
    },
    "r": {
     "delete_cmd_postfix": ") ",
     "delete_cmd_prefix": "rm(",
     "library": "var_list.r",
     "varRefreshCmd": "cat(var_dic_list()) "
    }
   },
   "types_to_exclude": [
    "module",
    "function",
    "builtin_function_or_method",
    "instance",
    "_Feature"
   ],
   "window_display": false
  }
 },
 "nbformat": 4,
 "nbformat_minor": 5
}
