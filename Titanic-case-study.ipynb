{
 "cells": [
  {
   "cell_type": "markdown",
   "id": "e96b56bd",
   "metadata": {},
   "source": [
    "Goal of this case study is to predict survivors based on Titanic dataset and compare different alghoritms with different hiperparameters. At the end we can choose the best one for this task."
   ]
  },
  {
   "cell_type": "code",
   "execution_count": 1,
   "id": "979e8d01",
   "metadata": {},
   "outputs": [],
   "source": [
    "import pandas as pd\n",
    "import numpy as np\n",
    "import seaborn as sns"
   ]
  },
  {
   "cell_type": "code",
   "execution_count": 2,
   "id": "df7e7f0f",
   "metadata": {},
   "outputs": [
    {
     "data": {
      "text/html": [
       "<div>\n",
       "<style scoped>\n",
       "    .dataframe tbody tr th:only-of-type {\n",
       "        vertical-align: middle;\n",
       "    }\n",
       "\n",
       "    .dataframe tbody tr th {\n",
       "        vertical-align: top;\n",
       "    }\n",
       "\n",
       "    .dataframe thead th {\n",
       "        text-align: right;\n",
       "    }\n",
       "</style>\n",
       "<table border=\"1\" class=\"dataframe\">\n",
       "  <thead>\n",
       "    <tr style=\"text-align: right;\">\n",
       "      <th></th>\n",
       "      <th>pclass</th>\n",
       "      <th>survived</th>\n",
       "      <th>name</th>\n",
       "      <th>sex</th>\n",
       "      <th>age</th>\n",
       "      <th>sibsp</th>\n",
       "      <th>parch</th>\n",
       "      <th>ticket</th>\n",
       "      <th>fare</th>\n",
       "      <th>cabin</th>\n",
       "      <th>embarked</th>\n",
       "      <th>home.dest</th>\n",
       "    </tr>\n",
       "  </thead>\n",
       "  <tbody>\n",
       "    <tr>\n",
       "      <th>0</th>\n",
       "      <td>3</td>\n",
       "      <td>0</td>\n",
       "      <td>Abbing, Mr. Anthony</td>\n",
       "      <td>male</td>\n",
       "      <td>42.0</td>\n",
       "      <td>0</td>\n",
       "      <td>0</td>\n",
       "      <td>C.A. 5547</td>\n",
       "      <td>7.55</td>\n",
       "      <td>NaN</td>\n",
       "      <td>S</td>\n",
       "      <td>NaN</td>\n",
       "    </tr>\n",
       "    <tr>\n",
       "      <th>1</th>\n",
       "      <td>3</td>\n",
       "      <td>0</td>\n",
       "      <td>Abbott, Master. Eugene Joseph</td>\n",
       "      <td>male</td>\n",
       "      <td>13.0</td>\n",
       "      <td>0</td>\n",
       "      <td>2</td>\n",
       "      <td>C.A. 2673</td>\n",
       "      <td>20.25</td>\n",
       "      <td>NaN</td>\n",
       "      <td>S</td>\n",
       "      <td>East Providence, RI</td>\n",
       "    </tr>\n",
       "    <tr>\n",
       "      <th>2</th>\n",
       "      <td>3</td>\n",
       "      <td>0</td>\n",
       "      <td>Abbott, Mr. Rossmore Edward</td>\n",
       "      <td>male</td>\n",
       "      <td>16.0</td>\n",
       "      <td>1</td>\n",
       "      <td>1</td>\n",
       "      <td>C.A. 2673</td>\n",
       "      <td>20.25</td>\n",
       "      <td>NaN</td>\n",
       "      <td>S</td>\n",
       "      <td>East Providence, RI</td>\n",
       "    </tr>\n",
       "    <tr>\n",
       "      <th>3</th>\n",
       "      <td>3</td>\n",
       "      <td>1</td>\n",
       "      <td>Abbott, Mrs. Stanton (Rosa Hunt)</td>\n",
       "      <td>female</td>\n",
       "      <td>35.0</td>\n",
       "      <td>1</td>\n",
       "      <td>1</td>\n",
       "      <td>C.A. 2673</td>\n",
       "      <td>20.25</td>\n",
       "      <td>NaN</td>\n",
       "      <td>S</td>\n",
       "      <td>East Providence, RI</td>\n",
       "    </tr>\n",
       "    <tr>\n",
       "      <th>4</th>\n",
       "      <td>3</td>\n",
       "      <td>1</td>\n",
       "      <td>Abelseth, Miss. Karen Marie</td>\n",
       "      <td>female</td>\n",
       "      <td>16.0</td>\n",
       "      <td>0</td>\n",
       "      <td>0</td>\n",
       "      <td>348125</td>\n",
       "      <td>7.65</td>\n",
       "      <td>NaN</td>\n",
       "      <td>S</td>\n",
       "      <td>Norway Los Angeles, CA</td>\n",
       "    </tr>\n",
       "  </tbody>\n",
       "</table>\n",
       "</div>"
      ],
      "text/plain": [
       "   pclass  survived                              name     sex   age  sibsp  \\\n",
       "0       3         0               Abbing, Mr. Anthony    male  42.0      0   \n",
       "1       3         0     Abbott, Master. Eugene Joseph    male  13.0      0   \n",
       "2       3         0       Abbott, Mr. Rossmore Edward    male  16.0      1   \n",
       "3       3         1  Abbott, Mrs. Stanton (Rosa Hunt)  female  35.0      1   \n",
       "4       3         1       Abelseth, Miss. Karen Marie  female  16.0      0   \n",
       "\n",
       "   parch     ticket   fare cabin embarked               home.dest  \n",
       "0      0  C.A. 5547   7.55   NaN        S                     NaN  \n",
       "1      2  C.A. 2673  20.25   NaN        S     East Providence, RI  \n",
       "2      1  C.A. 2673  20.25   NaN        S     East Providence, RI  \n",
       "3      1  C.A. 2673  20.25   NaN        S     East Providence, RI  \n",
       "4      0     348125   7.65   NaN        S  Norway Los Angeles, CA  "
      ]
     },
     "execution_count": 2,
     "metadata": {},
     "output_type": "execute_result"
    }
   ],
   "source": [
    "data = pd.read_csv('D:/Dane/walickida/Desktop/Realizowane prace/PYTHON/Zjazd 9/Titanic_case_study-main/titanic.csv', \n",
    "                   decimal=',')\n",
    "data.head() "
   ]
  },
  {
   "cell_type": "markdown",
   "id": "25321d3b",
   "metadata": {},
   "source": [
    "1. Data preparation"
   ]
  },
  {
   "cell_type": "code",
   "execution_count": 3,
   "id": "9c2f0cae",
   "metadata": {},
   "outputs": [
    {
     "name": "stdout",
     "output_type": "stream",
     "text": [
      "<class 'pandas.core.frame.DataFrame'>\n",
      "RangeIndex: 1046 entries, 0 to 1045\n",
      "Data columns (total 12 columns):\n",
      " #   Column     Non-Null Count  Dtype  \n",
      "---  ------     --------------  -----  \n",
      " 0   pclass     1046 non-null   int64  \n",
      " 1   survived   1046 non-null   int64  \n",
      " 2   name       1046 non-null   object \n",
      " 3   sex        1046 non-null   object \n",
      " 4   age        1046 non-null   float64\n",
      " 5   sibsp      1046 non-null   int64  \n",
      " 6   parch      1046 non-null   int64  \n",
      " 7   ticket     1046 non-null   object \n",
      " 8   fare       1045 non-null   float64\n",
      " 9   cabin      272 non-null    object \n",
      " 10  embarked   1044 non-null   object \n",
      " 11  home.dest  685 non-null    object \n",
      "dtypes: float64(2), int64(4), object(6)\n",
      "memory usage: 98.2+ KB\n"
     ]
    }
   ],
   "source": [
    "data.info()"
   ]
  },
  {
   "cell_type": "code",
   "execution_count": 4,
   "id": "b81fa126",
   "metadata": {},
   "outputs": [],
   "source": [
    "y = data['survived'] #it's our variable that we'd like to predict"
   ]
  },
  {
   "cell_type": "code",
   "execution_count": 5,
   "id": "2aa329a3",
   "metadata": {},
   "outputs": [
    {
     "data": {
      "text/plain": [
       "array(['C.A. 5547', 'C.A. 2673', '348125', '348122', 'P/PP 3381',\n",
       "       'SOTON/O2 3101284', '2657', 'C 7076', '341826', '7546', '392091',\n",
       "       '2699', '248744', '3474', 'SOTON/O2 3101287', 'SOTON/O.Q. 3101311',\n",
       "       'SOTON/O.Q. 3101312', '24160', '373450', '113781', '2223',\n",
       "       '350046', 'C 4001', '19952', '347082', '3101281', '347091',\n",
       "       '350043', '347075', '347466', '231945', 'C.A. 34050', '13502',\n",
       "       '112050', '349202', '226875', '11769', '349237', '349911',\n",
       "       'PC 17609', '244346', 'SOTON/O.Q. 3101310', '347077', '350054',\n",
       "       '2696', '2692', 'SOTON/O.Q. 3101309', 'PC 17757', '2627', '2694',\n",
       "       'PC 17477', '347468', '2687', '2679', '3101278', '2666',\n",
       "       'A/4 31416', '2623', '29108', 'C.A. 31030', '349248', '28551',\n",
       "       'C.A./SOTON 34068', '2663', '2691', '19877', '27042', '330844',\n",
       "       '324669', 'S.O.P. 1166', 'PC 17558', '11813', '2908', '13050',\n",
       "       '244358', '323951', '230136', '11751', '248698', '111369',\n",
       "       '347068', '28404', 'PP 4348', '28425', '2648', '1601', 'PC 17483',\n",
       "       '312992', '13905', '11967', 'PC 17760', '347090', '110564',\n",
       "       '113784', '112277', '36928', '113783', '110489', '349224',\n",
       "       '237670', '2678', '364849', 'PC 17608', '54636', '211535',\n",
       "       '113505', '220367', '334914', '113054', '347471', 'PC 17591',\n",
       "       '3460', 'A/5 21171', '350045', '364512', '248733', '29750',\n",
       "       'PC 17610', '236853', '329944', '330920', '365222', '16966',\n",
       "       '330963', '27849', '234686', '113050', '244310', '236852',\n",
       "       '315087', '315084', '315091', '315089', 'PC 17476', '248738',\n",
       "       '315093', '315086', 'F.C.C. 13528', '364846', '364858', 'PC 17606',\n",
       "       'A./5. 2152', '28424', 'PC 17755', '350042', '350409', '695',\n",
       "       '367231', '368364', '113059', '113760', '244252', '392095',\n",
       "       '19924', '343275', 'W.E.P. 5734', '113806', '248731',\n",
       "       'SC/AH 29037', 'A/5. 13032', '110152', 'PC 17594', '343276',\n",
       "       '237789', '2680', '13508', '2003', 'SOTON/O.Q. 3101307',\n",
       "       'A/5 3540', '371109', '349210', '349209', 'W./C. 14263', '248740',\n",
       "       '28034', '5727', 'C.A. 31921', 'PC 17756', '21332', '335097',\n",
       "       '370373', '330972', '370369', 'A/5 3536', 'W./C. 14266', '349230',\n",
       "       '349229', '349231', '237249', 'SOTON/OQ 392090', '11770', '29107',\n",
       "       'C.A. 37671', '364500', 'S.P. 3464', '371362', 'WE/P 5735',\n",
       "       '112901', '315090', 'PC 17599', '2698', '7598', '7552', '349228',\n",
       "       '382650', '382651', '113055', '347080', '113804', '349219',\n",
       "       '349203', 'F.C. 12750', 'C.A. 33112', 'A/4 48871', 'S.O.C. 14879',\n",
       "       'SC/A4 23568', 'A/4 48873', '237668', '244360', '345572', '345774',\n",
       "       '345778', 'C.A. 2315', 'SC/PARIS 2167', '349250', 'C.A. 31029',\n",
       "       'A/5 21172', 'A/5 21175', '330958', '17474', '349232', '315088',\n",
       "       '349226', '33638', '231919', '370376', 'A/5. 10482', 'PC 17761',\n",
       "       '364516', '28403', '368702', 'SOTON/OQ 392083', '349241', '28220',\n",
       "       '336439', '11755', 'PC 17485', 'PC 17580', 'S.O./P.P. 752',\n",
       "       'SC/PARIS 2149', 'SC/PARIS 2148', '347072', '11767', '349912',\n",
       "       '29751', '347074', '347061', '2675', '2690', '2695', 'A/5 3902',\n",
       "       '236854', '36947', 'PC 17531', 'C.A. 6212', '236171', '367232',\n",
       "       '2926', 'C.A. 15185', '350036', 'PC 17474', '330910', 'W./C. 6608',\n",
       "       '113051', '19950', '229236', 'PC 17611', '17765', '13567', '13568',\n",
       "       '237671', '113803', '239865', '28664', '36864', '243880', '31028',\n",
       "       '111320', '113503', '112378', 'PC 17593', 'C.A. 30769', '28133',\n",
       "       '28134', '248726', '14973', '233866', '12233', '35851', '250646',\n",
       "       '17453', 'PC 17754', '363291', 'SOTON/O.Q. 3101263',\n",
       "       'SOTON/O.Q. 3101306', 'CA 2144', '113780', '112053', 'PC 17582',\n",
       "       '21440', '250647', 'PC 17759', '8471', '7534', '3101276',\n",
       "       '3101277', '347069', '349236', 'AQ/3. 30631', 'STON/O2. 3101279',\n",
       "       '250653', '250649', '345769', '2693', '350026', '350025', '350029',\n",
       "       '248746', '11765', '374887', '248727', 'PC 17572', 'S.W./PP 752',\n",
       "       '36973', 'W/C 14208', '112059', 'F.C.C. 13529', '12749', '113038',\n",
       "       '347089', '365226', 'STON/O2. 3101282', 'STON/O2. 3101290', '7548',\n",
       "       '349243', '347086', '220845', '248706', '250650', '680', '111361',\n",
       "       '3101298', '29105', '29104', '242963', '250643', '26707', 'C 7075',\n",
       "       '113789', '111426', 'STON/O2. 3101283', '237798', '24065', '19943',\n",
       "       '348121', 'SCO/W 1585', '2685', '113572', 'SO/C 14885',\n",
       "       'STON/O2. 3101270', 'STON/O2. 3101271', 'PC 17595', '112058',\n",
       "       '243847', '349240', '350034', '237565', 'C.A. 33111', '350050',\n",
       "       '350047', '350048', 'SC/AH Basle 541', '3101264', '347070',\n",
       "       '350052', '7540', '347063', '347467', '347742', 'LINE', '347062',\n",
       "       '694', '349204', '350417', '350408', '113044', '4136', '4137',\n",
       "       'STON/O 2. 3101286', 'STON/O 2. 3101274', '8475', '244367',\n",
       "       '349246', '350053', '347465', '350060', 'F.C.C. 13534', '349256',\n",
       "       '2682', '233734', '330911', '363592', '223596', '11771', '17464',\n",
       "       '11753', '315153', '315152', '315151', '219533', '350405',\n",
       "       '350404', '2654', 'C.A. 18723', '250651', '4135', 'C 7077',\n",
       "       'SC/Paris 2123', '347065', '7545', '347067', '17465', '2620',\n",
       "       'SC 1748', 'STON/O 2. 3101292', '2683', 'C.A. 34260',\n",
       "       'SC/Paris 2163', 'C.A. 29566', '345781', '347071', '347073',\n",
       "       '17475', '349910', 'STON/O 2. 3101285', '112377', 'PC 17592',\n",
       "       '235509', 'A/5. 3336', '113501', '113801', 'SC/AH 3085',\n",
       "       'A/5 21173', '315098', '347743', '347469', '350403', 'PC 17569',\n",
       "       'S.O./P.P. 3', 'C 17369', 'STON/O 2. 3101275', '110469',\n",
       "       'STON/O 2. 3101268', 'S.C./PARIS 2079', '364850', '349213',\n",
       "       '349257', '113773', '28228', '239059', 'PC 17482', '17463',\n",
       "       '237216', '233478', 'PC 17473', '330923', '9232', '376566',\n",
       "       '250644', 'SW/PP 751', 'A.5. 11206', '248723', 'PC 17604',\n",
       "       '345501', '13509', '234360', '19928', '349233', '349211', '349207',\n",
       "       'C.A. 24580', '13236', '348123', '113787', '211536', '392096',\n",
       "       '113796', '29011', '250655', '364506', '382653', '347078',\n",
       "       '240276', '349206', '2667', '2653', 'A./5. 3338', '237736',\n",
       "       'PC 17596', '230080', '244368', '35273', '11752', '693', '2651',\n",
       "       '3101297', '363611', '347066', '347470', '350410',\n",
       "       'SOTON/O2 3101272', 'STON/O 2. 3101289', '218629', 'A/4. 39886',\n",
       "       'SC/PARIS 2166', '2697', 'C.A. 29395', '347081', '345364', '7267',\n",
       "       '347085', 'PC 17758', 'C 17368', '4579', '350407', '347464',\n",
       "       '347079', '6563', '315085', '315096', '315094', '349244', '113509',\n",
       "       '28213', 'PC 17562', 'W./C. 14260', '244278', 'SC/PARIS 2147',\n",
       "       '349909', '3101295', 'SC 14888', '230433', '113043', '315097',\n",
       "       '358585', '349242', 'SOTON/O.Q. 3101315', '113776',\n",
       "       'STON/O 2. 3101294', 'STON/O 2. 3101291', '28665', 'A/5 21174',\n",
       "       '347083', '237393', '342441', '349245', '349212', '347076',\n",
       "       '347087', '113786', 'S.O./P.P. 2', 'SOTON/O.Q. 392078', '234604',\n",
       "       '315095', '315092', 'C.A. 34644', '110465', 'SC/PARIS 2168',\n",
       "       '26360', 'C.A. 17248', '349249', '31027', '19972', '230434',\n",
       "       '342684', '382652', 'SC/PARIS 2133', '29106', 'W./C. 14258',\n",
       "       'STON/O 2. 3101273', 'A/5. 3337', 'PC 17590', '28004', '111428',\n",
       "       '370129', 'PC 17613', 'PC 17585', '13049', 'PC 17603', 'A/5 3594',\n",
       "       '113790', 'C.A. 31026', 'A/4. 20589', '2672', 'SOTON/O.Q. 3101262',\n",
       "       'CA. 2343', '7266', '343120', '3101296', 'PP 9549', '345768',\n",
       "       'A/5. 2151', '342826', '248659', '244361', '113798', '113794',\n",
       "       '345779', '250652', 'PC 17475', '13507', '13213', '250648', '2669',\n",
       "       '349251', 'STON/O 2. 3101280', '3101265', '237442', '347088',\n",
       "       '234818', '28206', '113788', '113792', '31418', '17764', '13695',\n",
       "       '21228', 'C.A. 29178', '348124', 'A.5. 18509', 'STON/OQ. 369943',\n",
       "       '13214', '349239', 'CA. 2314', 'A/4 45380', '237734', '113514',\n",
       "       '11778', 'F.C.C. 13540', '3701', '349205', '7553',\n",
       "       'STON/O 2. 3101288', '315083', '347054', 'SOTON/OQ 392089',\n",
       "       'STON/O 2. 3101269', 'SOTON/OQ 392076', '36963', '347060', '7538',\n",
       "       '350035', '248734', '17466', '110413', '19996', '350033', '17421',\n",
       "       '363294', '2625', 'STON/O 2. 3101293', '364499', 'F.C.C. 13531',\n",
       "       '364511', '2650', '233639', '240929', '34218', '2543', '349247',\n",
       "       '4138', '4134', '11668', 'PC 17601', 'A/5. 851', '111240',\n",
       "       '345773', '345780', '345770', '345783', '345765', '345764',\n",
       "       '345763', '2658', '28221', '350416', '350406', '349252', '345767',\n",
       "       '36967', 'CA 31352', '28666', '110813', 'C.A. 33595', '27267',\n",
       "       '113800', '228414', '29103', '345775', 'C.A. 34651', '2688',\n",
       "       'C.A. 24579', '35281', '347064', '3101267', '3101266', '244270',\n",
       "       '363272', '113795', 'PC 17597', 'SOTON/OQ 3101317', '315154',\n",
       "       '345771', '220844', '113807', '2659', '2628', '248747', '2665',\n",
       "       '2656', '2670', '315082'], dtype=object)"
      ]
     },
     "execution_count": 5,
     "metadata": {},
     "output_type": "execute_result"
    }
   ],
   "source": [
    "data['ticket'].unique() #it's something like ID of ticket, we can't reasonably \n",
    "#use this information"
   ]
  },
  {
   "cell_type": "code",
   "execution_count": 6,
   "id": "8246b850",
   "metadata": {},
   "outputs": [],
   "source": [
    "data.drop(columns='ticket', axis=1, inplace=True)"
   ]
  },
  {
   "cell_type": "code",
   "execution_count": 7,
   "id": "f9117f15",
   "metadata": {},
   "outputs": [],
   "source": [
    "data.drop(columns='fare', axis=1, inplace=True)\n",
    "#First thing we can see is that fare - ticket price is object Dtype and should be float. \n",
    "#But I decided not to use this variable at all, beacouse: 1) we can't be sure about currency and\n",
    "#correctness (probably it's the summarized price for all people from the ticket) \n",
    "#AND this variable is higly correlated with cabin and pclass. "
   ]
  },
  {
   "cell_type": "code",
   "execution_count": 8,
   "id": "7a56011c",
   "metadata": {},
   "outputs": [
    {
     "data": {
      "text/plain": [
       "C    86\n",
       "B    63\n",
       "D    42\n",
       "E    38\n",
       "A    19\n",
       "F    18\n",
       "G     5\n",
       "T     1\n",
       "Name: cabin, dtype: int64"
      ]
     },
     "execution_count": 8,
     "metadata": {},
     "output_type": "execute_result"
    }
   ],
   "source": [
    "#There is big amount of Nan's BUT it could be very useful information so we'll try to do sth\n",
    "#We'll only use the letter sign - we assume that it's a deck designation. \n",
    "data.cabin.str[0].value_counts()"
   ]
  },
  {
   "cell_type": "code",
   "execution_count": 9,
   "id": "eddd6d11",
   "metadata": {},
   "outputs": [],
   "source": [
    "data[\"deck\"] = data.cabin.str[0].fillna(\"Unknown\").replace({\"G\":\"F\", \"T\":\"F\"})\n",
    "#There is very little\n",
    "#samples in classes T and G so we can add them to class F. Nan's we turn into class Unknown."
   ]
  },
  {
   "cell_type": "code",
   "execution_count": 10,
   "id": "4b963a0d",
   "metadata": {},
   "outputs": [],
   "source": [
    "data.drop(['cabin'], axis=1, inplace=True) #now we can delete column cabin"
   ]
  },
  {
   "cell_type": "code",
   "execution_count": 11,
   "id": "1d656c4c",
   "metadata": {},
   "outputs": [],
   "source": [
    "data['embarked'].fillna(data['embarked'].value_counts().index[0], inplace=True)\n",
    "#Column 'embarked' it's the port from which passengers departed. It seems as usefull information\n",
    "#but it's probably highly correlated with cabin (now deck) and it's probably more informative but \n",
    "#on the other hand it can be more informative for us than ID's of cabins that we've alreade \n",
    "#established it's hard to locate on ship\n",
    "#We'll use this column and fill Nan's with most common value which is 'S'. There is only 2 Nan's\n",
    "#so it shouldn't be a mistake."
   ]
  },
  {
   "cell_type": "code",
   "execution_count": 12,
   "id": "1ef40325",
   "metadata": {},
   "outputs": [],
   "source": [
    "#home.dest (home destination) is the column that \n",
    "#we will not use as it does not carry any information related to the disaster"
   ]
  },
  {
   "cell_type": "code",
   "execution_count": 13,
   "id": "e017253e",
   "metadata": {},
   "outputs": [
    {
     "data": {
      "text/html": [
       "<div>\n",
       "<style scoped>\n",
       "    .dataframe tbody tr th:only-of-type {\n",
       "        vertical-align: middle;\n",
       "    }\n",
       "\n",
       "    .dataframe tbody tr th {\n",
       "        vertical-align: top;\n",
       "    }\n",
       "\n",
       "    .dataframe thead th {\n",
       "        text-align: right;\n",
       "    }\n",
       "</style>\n",
       "<table border=\"1\" class=\"dataframe\">\n",
       "  <thead>\n",
       "    <tr style=\"text-align: right;\">\n",
       "      <th></th>\n",
       "      <th>pclass</th>\n",
       "      <th>age</th>\n",
       "      <th>sibsp</th>\n",
       "      <th>parch</th>\n",
       "      <th>sex_male</th>\n",
       "      <th>embarked_Q</th>\n",
       "      <th>embarked_S</th>\n",
       "      <th>deck_B</th>\n",
       "      <th>deck_C</th>\n",
       "      <th>deck_D</th>\n",
       "      <th>deck_E</th>\n",
       "      <th>deck_F</th>\n",
       "      <th>deck_Unknown</th>\n",
       "    </tr>\n",
       "  </thead>\n",
       "  <tbody>\n",
       "    <tr>\n",
       "      <th>0</th>\n",
       "      <td>3</td>\n",
       "      <td>42.0</td>\n",
       "      <td>0</td>\n",
       "      <td>0</td>\n",
       "      <td>1</td>\n",
       "      <td>0</td>\n",
       "      <td>1</td>\n",
       "      <td>0</td>\n",
       "      <td>0</td>\n",
       "      <td>0</td>\n",
       "      <td>0</td>\n",
       "      <td>0</td>\n",
       "      <td>1</td>\n",
       "    </tr>\n",
       "    <tr>\n",
       "      <th>1</th>\n",
       "      <td>3</td>\n",
       "      <td>13.0</td>\n",
       "      <td>0</td>\n",
       "      <td>2</td>\n",
       "      <td>1</td>\n",
       "      <td>0</td>\n",
       "      <td>1</td>\n",
       "      <td>0</td>\n",
       "      <td>0</td>\n",
       "      <td>0</td>\n",
       "      <td>0</td>\n",
       "      <td>0</td>\n",
       "      <td>1</td>\n",
       "    </tr>\n",
       "    <tr>\n",
       "      <th>2</th>\n",
       "      <td>3</td>\n",
       "      <td>16.0</td>\n",
       "      <td>1</td>\n",
       "      <td>1</td>\n",
       "      <td>1</td>\n",
       "      <td>0</td>\n",
       "      <td>1</td>\n",
       "      <td>0</td>\n",
       "      <td>0</td>\n",
       "      <td>0</td>\n",
       "      <td>0</td>\n",
       "      <td>0</td>\n",
       "      <td>1</td>\n",
       "    </tr>\n",
       "    <tr>\n",
       "      <th>3</th>\n",
       "      <td>3</td>\n",
       "      <td>35.0</td>\n",
       "      <td>1</td>\n",
       "      <td>1</td>\n",
       "      <td>0</td>\n",
       "      <td>0</td>\n",
       "      <td>1</td>\n",
       "      <td>0</td>\n",
       "      <td>0</td>\n",
       "      <td>0</td>\n",
       "      <td>0</td>\n",
       "      <td>0</td>\n",
       "      <td>1</td>\n",
       "    </tr>\n",
       "    <tr>\n",
       "      <th>4</th>\n",
       "      <td>3</td>\n",
       "      <td>16.0</td>\n",
       "      <td>0</td>\n",
       "      <td>0</td>\n",
       "      <td>0</td>\n",
       "      <td>0</td>\n",
       "      <td>1</td>\n",
       "      <td>0</td>\n",
       "      <td>0</td>\n",
       "      <td>0</td>\n",
       "      <td>0</td>\n",
       "      <td>0</td>\n",
       "      <td>1</td>\n",
       "    </tr>\n",
       "  </tbody>\n",
       "</table>\n",
       "</div>"
      ],
      "text/plain": [
       "   pclass   age  sibsp  parch  sex_male  embarked_Q  embarked_S  deck_B  \\\n",
       "0       3  42.0      0      0         1           0           1       0   \n",
       "1       3  13.0      0      2         1           0           1       0   \n",
       "2       3  16.0      1      1         1           0           1       0   \n",
       "3       3  35.0      1      1         0           0           1       0   \n",
       "4       3  16.0      0      0         0           0           1       0   \n",
       "\n",
       "   deck_C  deck_D  deck_E  deck_F  deck_Unknown  \n",
       "0       0       0       0       0             1  \n",
       "1       0       0       0       0             1  \n",
       "2       0       0       0       0             1  \n",
       "3       0       0       0       0             1  \n",
       "4       0       0       0       0             1  "
      ]
     },
     "execution_count": 13,
     "metadata": {},
     "output_type": "execute_result"
    }
   ],
   "source": [
    "X = pd.get_dummies(data [['pclass', 'sex', 'age', 'sibsp', 'parch', \n",
    "                          'embarked', 'deck']], drop_first=True)\n",
    "X.head() #'sex','embarked' and 'deck' are categorical columns so they should be encoded."
   ]
  },
  {
   "cell_type": "markdown",
   "id": "bafcb5bc",
   "metadata": {},
   "source": [
    "2. Modeling"
   ]
  },
  {
   "cell_type": "markdown",
   "id": "bfe461be",
   "metadata": {},
   "source": [
    "2.1 Decision Tree Classifier"
   ]
  },
  {
   "cell_type": "code",
   "execution_count": 14,
   "id": "7d7d5b9f",
   "metadata": {},
   "outputs": [],
   "source": [
    "from sklearn.model_selection import train_test_split"
   ]
  },
  {
   "cell_type": "code",
   "execution_count": 15,
   "id": "03966d66",
   "metadata": {},
   "outputs": [],
   "source": [
    "X_train, X_test, y_train, y_test = train_test_split(X, y, test_size=0.2, random_state=123)\n",
    "#now we split data into training and testing. We can assume basing on dataset size that 80:20 \n",
    "#should be correct ratio"
   ]
  },
  {
   "cell_type": "code",
   "execution_count": 16,
   "id": "5268d9a5",
   "metadata": {},
   "outputs": [],
   "source": [
    "from sklearn.tree import DecisionTreeClassifier\n",
    "from sklearn.preprocessing import StandardScaler\n",
    "from sklearn.model_selection import GridSearchCV\n",
    "from sklearn.metrics import accuracy_score\n",
    "from sklearn.model_selection import KFold, StratifiedKFold"
   ]
  },
  {
   "cell_type": "code",
   "execution_count": 17,
   "id": "99eb2ba3",
   "metadata": {},
   "outputs": [
    {
     "data": {
      "text/plain": [
       "0.7047619047619048"
      ]
     },
     "execution_count": 17,
     "metadata": {},
     "output_type": "execute_result"
    }
   ],
   "source": [
    "model_dt = DecisionTreeClassifier()\n",
    "model_dt.fit(X_train, y_train)\n",
    "y_pred_dt = model_dt.predict(X_test)\n",
    "accuracy_score(y_test, y_pred_dt)\n",
    "#~70% accuracy when we fit Decision Tree Classifier without parameter optimization"
   ]
  },
  {
   "cell_type": "code",
   "execution_count": 18,
   "id": "7fb3d96f",
   "metadata": {},
   "outputs": [
    {
     "name": "stdout",
     "output_type": "stream",
     "text": [
      "{'criterion': 'gini', 'max_depth': 12, 'min_samples_leaf': 5}\n",
      "0.7904761904761904\n"
     ]
    }
   ],
   "source": [
    "kfold = StratifiedKFold(10, shuffle=True, random_state=123)\n",
    "\n",
    "model_dt = DecisionTreeClassifier()\n",
    "params = {\"min_samples_leaf\": np.arange(1, 21),\n",
    "          'max_depth': np.arange(1, 16),\n",
    "         'criterion': ['gini', 'entropy']}\n",
    "optimizer_dt = GridSearchCV(model_dt, \n",
    "                         params, \n",
    "                         scoring=\"accuracy\", \n",
    "                         cv=kfold, \n",
    "                         n_jobs=-1)\n",
    "optimizer_dt.fit(X_train, y_train)\n",
    "\n",
    "y_pred_dt = optimizer_dt.best_estimator_.predict(X_test)\n",
    "print(optimizer_dt.best_params_)\n",
    "print(accuracy_score(y_test, y_pred_dt))"
   ]
  },
  {
   "cell_type": "code",
   "execution_count": 19,
   "id": "2498bbaa",
   "metadata": {},
   "outputs": [
    {
     "data": {
      "text/plain": [
       "0.7857142857142857"
      ]
     },
     "execution_count": 19,
     "metadata": {},
     "output_type": "execute_result"
    }
   ],
   "source": [
    "model_dt = DecisionTreeClassifier(criterion='gini', max_depth=None, min_samples_leaf=5)\n",
    "model_dt.fit(X_train, y_train)\n",
    "y_pred_dt = model_dt.predict(X_test)\n",
    "accuracy_score(y_test, y_pred_dt)\n",
    "#Decision Tree Classifier with optimal parameters. Accuracy increases to ~79%"
   ]
  },
  {
   "cell_type": "markdown",
   "id": "117288d7",
   "metadata": {},
   "source": [
    "2.2 Logistic regression"
   ]
  },
  {
   "cell_type": "code",
   "execution_count": 20,
   "id": "f0dff24d",
   "metadata": {},
   "outputs": [],
   "source": [
    "from sklearn.linear_model import LogisticRegression\n",
    "from sklearn.pipeline import Pipeline"
   ]
  },
  {
   "cell_type": "code",
   "execution_count": 21,
   "id": "ec71114f",
   "metadata": {},
   "outputs": [
    {
     "data": {
      "text/plain": [
       "0.7857142857142857"
      ]
     },
     "execution_count": 21,
     "metadata": {},
     "output_type": "execute_result"
    }
   ],
   "source": [
    "model_lr = LogisticRegression(max_iter=10e5)\n",
    "model_lr.fit(X_train, y_train)\n",
    "y_pred_lr = model_lr.predict(X_test)\n",
    "accuracy_score(y_test, y_pred_lr)\n",
    "#~78% accuracy when we use Linear Regression model without optimization"
   ]
  },
  {
   "cell_type": "code",
   "execution_count": 22,
   "id": "17514805",
   "metadata": {},
   "outputs": [
    {
     "data": {
      "text/plain": [
       "{'model__C': 0.1, 'model__penalty': 'l2'}"
      ]
     },
     "execution_count": 22,
     "metadata": {},
     "output_type": "execute_result"
    }
   ],
   "source": [
    "#Optimization\n",
    "kfold = StratifiedKFold(10, shuffle=True, random_state=123)\n",
    "\n",
    "pipeline = Pipeline([\n",
    "    ('scaler', StandardScaler()),\n",
    "    ('model', LogisticRegression(solver='saga'))\n",
    "])\n",
    "params = [\n",
    "    {\n",
    "        'model__penalty': ['none']\n",
    "    },\n",
    "    {\n",
    "        'model__penalty': ['l1', 'l2'],\n",
    "        'model__C': [0.01, 0.1, 1, 10, 100, 1000]\n",
    "    }\n",
    "]\n",
    "\n",
    "optimizer_lr = GridSearchCV(pipeline,\n",
    "                           params,\n",
    "                           scoring='accuracy',\n",
    "                           cv=kfold,\n",
    "                           n_jobs=-1)\n",
    "optimizer_lr.fit(X_train, y_train)\n",
    "optimizer_lr.best_params_"
   ]
  },
  {
   "cell_type": "code",
   "execution_count": 23,
   "id": "093ba98f",
   "metadata": {},
   "outputs": [
    {
     "data": {
      "text/plain": [
       "0.7714285714285715"
      ]
     },
     "execution_count": 23,
     "metadata": {},
     "output_type": "execute_result"
    }
   ],
   "source": [
    "pipeline = Pipeline([\n",
    "    ('scaler', StandardScaler()),\n",
    "    ('model', LogisticRegression(penalty='l2', C=0.1))\n",
    "])\n",
    "pipeline.fit(X_train, y_train)\n",
    "y_pred_lr = pipeline.predict(X_test)\n",
    "accuracy_score(y_test, y_pred_lr)\n",
    "#after optimization we are at the same level of accuracy"
   ]
  },
  {
   "cell_type": "code",
   "execution_count": 24,
   "id": "6c4f65a7",
   "metadata": {},
   "outputs": [],
   "source": [
    "from sklearn import metrics"
   ]
  },
  {
   "cell_type": "code",
   "execution_count": 25,
   "id": "57aed9ae",
   "metadata": {},
   "outputs": [
    {
     "name": "stdout",
     "output_type": "stream",
     "text": [
      "[[95 22]\n",
      " [26 67]]\n"
     ]
    }
   ],
   "source": [
    "cm = metrics.confusion_matrix(y_test, y_pred_lr)\n",
    "print(cm)"
   ]
  },
  {
   "cell_type": "code",
   "execution_count": 26,
   "id": "729ed221",
   "metadata": {},
   "outputs": [
    {
     "name": "stdout",
     "output_type": "stream",
     "text": [
      "{'solver': 'lbfgs', 'best params': {'model__C': 0.1, 'model__penalty': 'l2'}}\n",
      "Accuracy: 0.7714285714285715\n",
      "{'solver': 'liblinear', 'best params': {'model__C': 1.0, 'model__penalty': 'l2'}}\n",
      "Accuracy: 0.7761904761904762\n",
      "{'solver': 'newton-cg', 'best params': {'model__C': 0.1, 'model__penalty': 'l2'}}\n",
      "Accuracy: 0.7714285714285715\n",
      "{'solver': 'sag', 'best params': {'model__C': 0.1, 'model__penalty': 'l2'}}\n",
      "Accuracy: 0.7714285714285715\n",
      "{'solver': 'saga', 'best params': {'model__C': 0.1, 'model__penalty': 'l2'}}\n",
      "Accuracy: 0.7714285714285715\n"
     ]
    }
   ],
   "source": [
    "#Optimization\n",
    "kfold = StratifiedKFold(10, shuffle=True, random_state=123)\n",
    "\n",
    "solvers_list = ['lbfgs', 'liblinear', 'newton-cg', 'sag', 'saga']\n",
    "C_params = [10e-2, 10e-1, 1, 10, 10e2, 10e3]\n",
    "\n",
    "for solver in solvers_list:\n",
    "    pipeline = Pipeline([\n",
    "        ('scaler', StandardScaler()),\n",
    "        ('model', LogisticRegression(solver=solver))\n",
    "    ])\n",
    "    if solver in ['lbfgs', 'newton-cg', 'sag']:\n",
    "        params = [\n",
    "            {\n",
    "                'model__penalty': ['none']\n",
    "            },\n",
    "            {\n",
    "                'model__penalty': ['l2'],\n",
    "                'model__C': C_params\n",
    "            }\n",
    "        ]\n",
    "        \n",
    "    elif solver == 'liblinear':\n",
    "            params = [\n",
    "            {\n",
    "                'model__penalty': ['l1', 'l2'],\n",
    "                'model__C': C_params\n",
    "            }\n",
    "        ]\n",
    "    elif solver == 'saga':\n",
    "            params = [\n",
    "            {\n",
    "                'model__penalty': ['none']\n",
    "            },\n",
    "            {\n",
    "                'model__penalty': ['l1', 'l2'],\n",
    "                'model__C': C_params\n",
    "            }\n",
    "        ]\n",
    "\n",
    "    optimizer_lr = GridSearchCV(pipeline,\n",
    "                                   params,\n",
    "                                   scoring='accuracy',\n",
    "                                   cv=kfold,\n",
    "                                   n_jobs=-1)\n",
    "    optimizer_lr.fit(X_train, y_train)\n",
    "    print({'solver': solver,\n",
    "           'best params': optimizer_lr.best_params_})\n",
    "    y_pred_lr = optimizer_lr.predict(X_test)\n",
    "    acc = accuracy_score(y_test, y_pred_lr)\n",
    "    print(f'Accuracy: {acc}')"
   ]
  },
  {
   "cell_type": "code",
   "execution_count": 27,
   "id": "e2a68fe3",
   "metadata": {},
   "outputs": [
    {
     "name": "stdout",
     "output_type": "stream",
     "text": [
      "0.7761904761904762\n"
     ]
    }
   ],
   "source": [
    "#as we can see the best logistic regression parameters for this task is solver liblinear with C parameter 1 and l2 model penalty\n",
    "#We can create new model with optimal parameters\n",
    "model_lr_opt = Pipeline([\n",
    "    ('scaler', StandardScaler()),\n",
    "    ('model', LogisticRegression(solver = 'liblinear', C=1, penalty = 'l2'))\n",
    "])\n",
    "\n",
    "model_lr_opt.fit(X_train, y_train)\n",
    "y_pred_lr_opt = model_lr_opt.predict(X_test)\n",
    "acc_lr_opt = accuracy_score(y_pred_lr_opt, y_test)\n",
    "print(acc_lr_opt)"
   ]
  },
  {
   "cell_type": "markdown",
   "id": "e1cd99a6",
   "metadata": {},
   "source": [
    "2.4 Random Forest"
   ]
  },
  {
   "cell_type": "code",
   "execution_count": 41,
   "id": "b6ebcf24",
   "metadata": {},
   "outputs": [],
   "source": [
    "from sklearn.ensemble import RandomForestClassifier\n",
    "import matplotlib.pyplot as plt"
   ]
  },
  {
   "cell_type": "code",
   "execution_count": 31,
   "id": "144299e1",
   "metadata": {},
   "outputs": [],
   "source": [
    "# We'll use Random Forest Classifier with optimal parameters found in point 2.1.\n",
    "#The problem is to find optimal number of estimators."
   ]
  },
  {
   "cell_type": "code",
   "execution_count": null,
   "id": "ad832afd",
   "metadata": {},
   "outputs": [],
   "source": [
    "{'criterion': 'gini', 'max_depth': 12, 'min_samples_leaf': 5}\n",
    "0.7904761904761904"
   ]
  },
  {
   "cell_type": "code",
   "execution_count": 47,
   "id": "57c2c762",
   "metadata": {},
   "outputs": [],
   "source": [
    "N_estimators = np.arange(3, 802 , 25)\n",
    "accuracies = []\n",
    "for n_trees in N_estimators:\n",
    "    model_rfc = RandomForestClassifier(n_trees, criterion='gini', \n",
    "                                       max_depth=12, min_samples_leaf=5)\n",
    "    model_rfc.fit(X_train, y_train)\n",
    "    y_pred_rfc = model_rfc.predict(X_test)\n",
    "    accuracies.append(accuracy_score(y_test, y_pred_rfc))"
   ]
  },
  {
   "cell_type": "code",
   "execution_count": 48,
   "id": "3bce60be",
   "metadata": {},
   "outputs": [
    {
     "data": {
      "image/png": "[encoded data removed]",
      "text/plain": [
       "<Figure size 640x480 with 1 Axes>"
      ]
     },
     "metadata": {},
     "output_type": "display_data"
    }
   ],
   "source": [
    "plt.plot(N_estimators, accuracies)\n",
    "plt.grid()\n",
    "plt.show()\n",
    "#We can see some peaks but it's hard to interpret what number of trees is the \n",
    "#best, but probably there is no sense to test wider range than 800."
   ]
  },
  {
   "cell_type": "code",
   "execution_count": 52,
   "id": "5c1725d0",
   "metadata": {},
   "outputs": [
    {
     "data": {
      "text/plain": [
       "array([100, 120, 140, 160, 180, 200, 220, 240, 260, 280, 300, 320, 340,\n",
       "       360, 380, 400, 420, 440, 460, 480, 500, 520, 540, 560, 580, 600,\n",
       "       620, 640, 660, 680, 700, 720, 740, 760, 780, 800])"
      ]
     },
     "execution_count": 52,
     "metadata": {},
     "output_type": "execute_result"
    }
   ],
   "source": [
    "np.arange(100, 801, 20)"
   ]
  },
  {
   "cell_type": "code",
   "execution_count": 54,
   "id": "c762fb8a",
   "metadata": {},
   "outputs": [],
   "source": [
    "#Let's find parameters by GridSearch\n",
    "model_rfc_opt = RandomForestClassifier(n_trees, criterion='gini', \n",
    "                                       max_depth=12, min_samples_leaf=5)\n",
    "params = {'n_estimators': np.arange(100, 801, 20)}\n",
    "optimizer_rfc = GridSearchCV(model_rfc_opt,\n",
    "                            params,\n",
    "                            scoring='accuracy',\n",
    "                            cv=kfold,\n",
    "                            n_jobs=-1)\n",
    "optimizer_rfc.fit(X_train, y_train)\n",
    "y_pred_rfc = optimizer_rfc.best_estimator_.predict(X_test)"
   ]
  },
  {
   "cell_type": "code",
   "execution_count": 60,
   "id": "380392bb",
   "metadata": {},
   "outputs": [
    {
     "data": {
      "text/plain": [
       "{'n_estimators': 220}"
      ]
     },
     "execution_count": 60,
     "metadata": {},
     "output_type": "execute_result"
    }
   ],
   "source": [
    "optimizer_rfc.best_params_"
   ]
  },
  {
   "cell_type": "code",
   "execution_count": 62,
   "id": "3406ff68",
   "metadata": {},
   "outputs": [
    {
     "data": {
      "text/plain": [
       "0.8047619047619048"
      ]
     },
     "execution_count": 62,
     "metadata": {},
     "output_type": "execute_result"
    }
   ],
   "source": [
    "accuracy_score(y_test, y_pred_rfc)"
   ]
  },
  {
   "cell_type": "code",
   "execution_count": null,
   "id": "07a64522",
   "metadata": {},
   "outputs": [],
   "source": [
    "kfold = StratifiedKFold(10, shuffle=True, random_state=123)\n",
    "\n",
    "model_dt = DecisionTreeClassifier(n_trees, criterion='gini', \n",
    "                                       max_depth=12, min_samples_leaf=5)\n",
    "params = {\"min_samples_leaf\": np.arange(1, 21),\n",
    "          'max_depth': np.arange(1, 16),\n",
    "         'criterion': ['gini', 'entropy']}\n",
    "optimizer_dt = GridSearchCV(model_dt, \n",
    "                         params, \n",
    "                         scoring=\"accuracy\", \n",
    "                         cv=kfold, \n",
    "                         n_jobs=-1)\n",
    "optimizer_dt.fit(X_train, y_train)\n",
    "\n",
    "y_pred_dt = optimizer_dt.best_estimator_.predict(X_test)\n",
    "print(optimizer_dt.best_params_)\n",
    "print(accuracy_score(y_test, y_pred_dt))"
   ]
  },
  {
   "cell_type": "code",
   "execution_count": null,
   "id": "bc34d96a",
   "metadata": {},
   "outputs": [],
   "source": []
  }
 ],
 "metadata": {
  "kernelspec": {
   "display_name": "Python 3 (ipykernel)",
   "language": "python",
   "name": "python3"
  },
  "language_info": {
   "codemirror_mode": {
    "name": "ipython",
    "version": 3
   },
   "file_extension": ".py",
   "mimetype": "text/x-python",
   "name": "python",
   "nbconvert_exporter": "python",
   "pygments_lexer": "ipython3",
   "version": "3.9.13"
  },
  "varInspector": {
   "cols": {
    "lenName": 16,
    "lenType": 16,
    "lenVar": 40
   },
   "kernels_config": {
    "python": {
     "delete_cmd_postfix": "",
     "delete_cmd_prefix": "del ",
     "library": "var_list.py",
     "varRefreshCmd": "print(var_dic_list())"
    },
    "r": {
     "delete_cmd_postfix": ") ",
     "delete_cmd_prefix": "rm(",
     "library": "var_list.r",
     "varRefreshCmd": "cat(var_dic_list()) "
    }
   },
   "types_to_exclude": [
    "module",
    "function",
    "builtin_function_or_method",
    "instance",
    "_Feature"
   ],
   "window_display": false
  }
 },
 "nbformat": 4,
 "nbformat_minor": 5
}
